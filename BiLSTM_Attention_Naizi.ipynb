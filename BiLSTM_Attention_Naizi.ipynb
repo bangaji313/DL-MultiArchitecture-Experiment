{
 "cells": [
  {
   "cell_type": "markdown",
   "metadata": {},
   "source": [
    "# **IMPLEMENTASI DAN EKSPERIMEN MODEL BiLSTM + ATTENTION PADA TIGA DATASET UNTUK MENENTUKAN KINERJA TERBAIK**\n",
    "\n",
    "Nama  : Naizirun De Jesus Da Silva  \n",
    "\n",
    "NRP   : 152022077  \n",
    "\n",
    "Kelas : IFB-454 DEEP LEARNING  \n",
    "\n",
    "## Konteks Proyek Kelompok:\n",
    "Proyek ini merupakan bagian dari tugas besar kelompok yang mengimplementasikan dan mengevaluasi tiga arsitektur deep learning berbeda pada tiga dataset yang sama. Setiap anggota bertanggung jawab untuk satu arsitektur dan menguji modelnya pada ketiga dataset.\n",
    "\n",
    "## Tujuan Eksperimen:\n",
    "Notebook ini mengimplementasikan arsitektur BiLSTM dengan mekanisme Attention untuk melakukan eksperimen pada tiga dataset yang telah ditentukan kelompok: BBC News, Sentiment140, dan FordA (UCR Time Series).  \n",
    "Tujuan eksperimen adalah menemukan konfigurasi terbaik dari model untuk masing-masing dataset dan menganalisis faktor yang mempengaruhi performanya.\n",
    "\n",
    "## Dataset yang Digunakan:\n",
    "1. **BBC News**  \n",
    "   - Jenis: Teks (klasifikasi topik berita)  \n",
    "\n",
    "2. **Sentiment140**  \n",
    "   - Jenis: Teks (klasifikasi sentimen tweet)  \n",
    "\n",
    "3. **FordA (UCR Time Series Classification)**  \n",
    "   - Jenis: Time Series (klasifikasi deret waktu) \n",
    "\n",
    "## Rencana Implementasi:\n",
    "- Import library yang dibutuhkan  \n",
    "- Memuat dan eksplorasi dataset  \n",
    "- Preprocessing data sesuai kebutuhan model  \n",
    "- Definisi model BiLSTM + Attention  \n",
    "- Eksperimen dengan variasi parameter model  \n",
    "- Melatih dan menguji model pada ketiga dataset  \n",
    "- Analisis dan visualisasi hasil performa  \n",
    "\n",
    "## Output yang Dihasilkan:\n",
    "- Source code implementasi model  \n",
    "- Data hasil eksperimen berupa metrik evaluasi  \n",
    "- Penjelasan teknis model dan parameter terbaik  \n",
    "- Dasar untuk laporan kelompok mengenai performa arsitektur ini  \n"
   ]
  },
  {
   "cell_type": "markdown",
   "metadata": {},
   "source": [
    "# **Tahap 1 – Import Semua Library**  \n",
    "Import seluruh library yang diperlukan seperti PyTorch/TensorFlow, preprocessing teks/time series, serta evaluasi dan visualisasi.\n"
   ]
  },
  {
   "cell_type": "code",
   "execution_count": 37,
   "metadata": {},
   "outputs": [],
   "source": [
    "import os\n",
    "import re\n",
    "import pandas as pd\n",
    "import numpy as np\n",
    "import matplotlib.pyplot as plt\n",
    "import matplotlib.patches as mpatches\n",
    "import seaborn as sns\n",
    "import tensorflow as tf \n",
    "\n",
    "import torch\n",
    "import torch.nn as nn\n",
    "from PIL import Image\n",
    "from torch.utils.data import Dataset, DataLoader\n",
    "from sklearn.model_selection import train_test_split\n",
    "from sklearn.preprocessing import LabelEncoder\n",
    "from sklearn.metrics import classification_report, accuracy_score\n",
    "\n",
    "from tensorflow.keras.preprocessing.text import Tokenizer\n",
    "from tensorflow.keras.preprocessing.sequence import pad_sequences\n"
   ]
  },
  {
   "cell_type": "markdown",
   "metadata": {},
   "source": [
    "# **Tahap 2 – Load Dataset**  \n",
    "Membaca ketiga dataset dan mempersiapkan data mentah untuk proses preprocessing.\n",
    "\n",
    "- **Tahap 2.1:** Load dataset BBC News  \n",
    "- **Tahap 2.2:** Load dataset Sentiment140  \n",
    "- **Tahap 2.3:** Load dataset FordA  \n"
   ]
  },
  {
   "cell_type": "markdown",
   "metadata": {},
   "source": [
    "## Tahap 2.1 – Load Dataset BBC News"
   ]
  },
  {
   "cell_type": "code",
   "execution_count": 43,
   "metadata": {},
   "outputs": [
    {
     "name": "stdout",
     "output_type": "stream",
     "text": [
      "                                                text     label\n",
      "0  Ad sales boost Time Warner profit\\n\\nQuarterly...  business\n",
      "1  Dollar gains on Greenspan speech\\n\\nThe dollar...  business\n",
      "2  Yukos unit buyer faces loan claim\\n\\nThe owner...  business\n",
      "3  High fuel prices hit BA's profits\\n\\nBritish A...  business\n",
      "4  Pernod takeover talk lifts Domecq\\n\\nShares in...  business\n",
      "label\n",
      "sport            511\n",
      "business         510\n",
      "politics         417\n",
      "tech             401\n",
      "entertainment    386\n",
      "Name: count, dtype: int64\n"
     ]
    }
   ],
   "source": [
    "def load_bbcnews_dataset(data_dir):\n",
    "    texts = []\n",
    "    labels = []\n",
    "    label_names = []\n",
    "\n",
    "    for label_name in os.listdir(data_dir):\n",
    "        label_path = os.path.join(data_dir, label_name)\n",
    "        if os.path.isdir(label_path):\n",
    "            label_names.append(label_name)\n",
    "            for filename in os.listdir(label_path):\n",
    "                file_path = os.path.join(label_path, filename)\n",
    "                with open(file_path, 'r', encoding='utf-8', errors='ignore') as f:\n",
    "                    text = f.read().strip()\n",
    "                    texts.append(text)\n",
    "                    labels.append(label_name)\n",
    "\n",
    "    df = pd.DataFrame({'text': texts, 'label': labels})\n",
    "    return df\n",
    "\n",
    "bbcnews_dir = './Dataset/BBCNews'\n",
    "df_bbc = load_bbcnews_dataset(bbcnews_dir)\n",
    "print(df_bbc.head())\n",
    "print(df_bbc['label'].value_counts())\n"
   ]
  },
  {
   "cell_type": "markdown",
   "metadata": {},
   "source": [
    "## Tahap 2.2 – Load Dataset Sentiment140"
   ]
  },
  {
   "cell_type": "code",
   "execution_count": 29,
   "metadata": {},
   "outputs": [
    {
     "name": "stdout",
     "output_type": "stream",
     "text": [
      "     target                                               text\n",
      "0  negative             @chrishasboobs AHHH I HOPE YOUR OK!!! \n",
      "1  negative  @misstoriblack cool , i have no tweet apps  fo...\n",
      "2  negative  @TiannaChaos i know  just family drama. its la...\n",
      "3  negative  School email won't open  and I have geography ...\n",
      "4  negative                             upper airways problem \n",
      "target\n",
      "positive    50057\n",
      "negative    49943\n",
      "Name: count, dtype: int64\n"
     ]
    }
   ],
   "source": [
    "def load_sentiment140_dataset(filepath, sample_size=100000):\n",
    "    cols = ['target', 'ids', 'date', 'flag', 'user', 'text']\n",
    "    df = pd.read_csv(filepath, encoding='latin-1', names=cols, usecols=['target', 'text'])\n",
    "    df['target'] = df['target'].replace({0: 'negative', 2: 'neutral', 4: 'positive'})\n",
    "    df_sample = df.sample(n=sample_size, random_state=42).reset_index(drop=True)\n",
    "    return df_sample\n",
    "\n",
    "sentiment140_path = './Dataset/Sentimen140/training.1600000.processed.noemoticon.csv'\n",
    "df_sentiment = load_sentiment140_dataset(sentiment140_path)\n",
    "print(df_sentiment.head())\n",
    "print(df_sentiment['target'].value_counts())\n"
   ]
  },
  {
   "cell_type": "markdown",
   "metadata": {},
   "source": [
    "## Tahap 2.3 – Load Dataset FordA Time Series"
   ]
  },
  {
   "cell_type": "code",
   "execution_count": 6,
   "metadata": {},
   "outputs": [
    {
     "name": "stdout",
     "output_type": "stream",
     "text": [
      "X shape: (4921, 500)\n",
      "y shape: (4921,)\n",
      "Distribusi label: [2527 2394]\n"
     ]
    }
   ],
   "source": [
    "def load_forda_dataset(train_path, test_path):\n",
    "    def read_txt(path):\n",
    "        data = np.loadtxt(path)\n",
    "        y = data[:, 0]\n",
    "        X = data[:, 1:]\n",
    "        return X, y\n",
    "\n",
    "    X_train, y_train = read_txt(train_path)\n",
    "    X_test, y_test = read_txt(test_path)\n",
    "    X = np.concatenate([X_train, X_test], axis=0)\n",
    "    y = np.concatenate([y_train, y_test], axis=0)\n",
    "    y = np.where(y == -1, 0, 1)\n",
    "    return X, y\n",
    "\n",
    "forda_train_path = './Dataset/FordA/FordA_TRAIN.txt'\n",
    "forda_test_path = './Dataset/FordA/FordA_TEST.txt'\n",
    "X_forda, y_forda = load_forda_dataset(forda_train_path, forda_test_path)\n",
    "print(\"X shape:\", X_forda.shape)\n",
    "print(\"y shape:\", y_forda.shape)\n",
    "print(\"Distribusi label:\", np.bincount(y_forda.astype(int)))\n"
   ]
  },
  {
   "cell_type": "markdown",
   "metadata": {},
   "source": [
    "# **Tahap 3 – Preprocessing Dataset**  \n",
    "Menyesuaikan preprocessing dengan karakteristik tiap dataset.\n",
    "\n",
    "- **Tahap 3.1:** Pembersihan dan tokenisasi teks untuk BBC News  \n",
    "- **Tahap 3.2:** Preprocessing tweet Sentiment140 (cleaning, tokenizing)  \n",
    "- **Tahap 3.3:** Normalisasi dan reshaping data FordA "
   ]
  },
  {
   "cell_type": "markdown",
   "metadata": {},
   "source": [
    "## Tahap 3.1 – Preprocessing BBC News\n",
    "\n",
    "- **Label Encoding**  \n",
    "  Label teks seperti `politics`, `tech`, `business`, `sport`, dan `entertainment` diubah ke angka 0–4.\n",
    "\n",
    "- **Tokenisasi**  \n",
    "  Menggunakan `Tokenizer(num_words=10000)` untuk mengambil 10.000 kata paling sering muncul.\n",
    "\n",
    "- **Padding**  \n",
    "  Semua teks dipotong atau dipanjangkan menjadi 300 token.\n",
    "\n",
    "- **Split Data**  \n",
    "  80% data latih dan 20% data uji."
   ]
  },
  {
   "cell_type": "code",
   "execution_count": 7,
   "metadata": {},
   "outputs": [],
   "source": [
    "# Encode label\n",
    "le_bbc = LabelEncoder()\n",
    "df_bbc['label_enc'] = le_bbc.fit_transform(df_bbc['label'])\n",
    "\n",
    "# Tokenisasi\n",
    "tokenizer_bbc = Tokenizer(num_words=10000, oov_token='<OOV>')\n",
    "tokenizer_bbc.fit_on_texts(df_bbc['text'])\n",
    "\n",
    "sequences_bbc = tokenizer_bbc.texts_to_sequences(df_bbc['text'])\n",
    "padded_bbc = pad_sequences(sequences_bbc, padding='post', maxlen=300)\n",
    "\n",
    "# Split dataset\n",
    "X_bbc = padded_bbc\n",
    "y_bbc = df_bbc['label_enc'].values\n",
    "\n",
    "X_bbc_train, X_bbc_test, y_bbc_train, y_bbc_test = train_test_split(X_bbc, y_bbc, test_size=0.2, random_state=42)\n"
   ]
  },
  {
   "cell_type": "markdown",
   "metadata": {},
   "source": [
    "## Tahap 3.2 – Preprocessing Sentiment140\n",
    "\n",
    "- **Pembersihan Teks**  \n",
    "  - Menghapus URL, mention (@user), dan karakter non-alfabet.  \n",
    "  - Semua huruf diubah menjadi huruf kecil.\n",
    "\n",
    "- **Mapping Label**  \n",
    "  - 0 → negative  \n",
    "  - 2 → neutral  \n",
    "  - 4 → positive\n",
    "\n",
    "- **Tokenisasi & Padding**  \n",
    "  Sama seperti BBC News: tokenizer dan padding hingga 300 token.\n",
    "\n",
    "- **Split Data**  \n",
    "  80% data latih dan 20% data uji.\n"
   ]
  },
  {
   "cell_type": "code",
   "execution_count": 14,
   "metadata": {},
   "outputs": [],
   "source": [
    "# Cleaning function\n",
    "def clean_text(text):\n",
    "    text = text.lower()\n",
    "    text = re.sub(r\"http\\S+|www.\\S+\", \"\", text)\n",
    "    text = re.sub(r\"[^a-zA-Z0-9\\s]\", \"\", text)\n",
    "    return text\n",
    "\n",
    "df_sentiment['clean_text'] = df_sentiment['text'].apply(clean_text)\n",
    "\n",
    "# Encode label\n",
    "le_sent = LabelEncoder()\n",
    "df_sentiment['label_enc'] = le_sent.fit_transform(df_sentiment['target'])\n",
    "\n",
    "# Tokenisasi\n",
    "tokenizer_sent = Tokenizer(num_words=10000, oov_token='<OOV>')\n",
    "tokenizer_sent.fit_on_texts(df_sentiment['clean_text'])\n",
    "\n",
    "sequences_sent = tokenizer_sent.texts_to_sequences(df_sentiment['clean_text'])\n",
    "padded_sent = pad_sequences(sequences_sent, padding='post', maxlen=300)\n",
    "\n",
    "# Split dataset\n",
    "X_sent = padded_sent\n",
    "y_sent = df_sentiment['label_enc'].values\n",
    "\n",
    "X_sent_train, X_sent_test, y_sent_train, y_sent_test = train_test_split(X_sent, y_sent, test_size=0.2, random_state=42)\n"
   ]
  },
  {
   "cell_type": "markdown",
   "metadata": {},
   "source": [
    "## Tahap 3.3 – Preprocessing FordA Time Series\n",
    "\n",
    "- **Normalisasi**  \n",
    "  Min-Max Scaling pada setiap baris (`axis=1`), agar nilai berada dalam rentang 0–1.\n",
    "\n",
    "- **Reshape**  \n",
    "  Data diubah ke bentuk `(samples, timesteps, 1)` untuk input ke LSTM.\n",
    "\n",
    "- **Split Data**  \n",
    "  80% data latih dan 20% data uji."
   ]
  },
  {
   "cell_type": "code",
   "execution_count": 9,
   "metadata": {},
   "outputs": [],
   "source": [
    "# Normalisasi (Min-Max Scaling)\n",
    "X_forda_norm = (X_forda - X_forda.min(axis=1, keepdims=True)) / (X_forda.max(axis=1, keepdims=True) - X_forda.min(axis=1, keepdims=True) + 1e-6)\n",
    "\n",
    "# Reshape ke [samples, timesteps, features]\n",
    "X_forda_reshaped = X_forda_norm[..., np.newaxis]\n",
    "\n",
    "# Split dataset\n",
    "X_forda_train, X_forda_test, y_forda_train, y_forda_test = train_test_split(X_forda_reshaped, y_forda, test_size=0.2, random_state=42)\n"
   ]
  },
  {
   "cell_type": "markdown",
   "metadata": {},
   "source": [
    "# **Tahap 4 – Definisi Model BiLSTM dengan Attention**  \n",
    "Membangun arsitektur BiLSTM yang dikombinasikan dengan Attention mechanism untuk meningkatkan performa pada data sequential."
   ]
  },
  {
   "cell_type": "markdown",
   "metadata": {},
   "source": [
    "## Layer Attention Kustom"
   ]
  },
  {
   "cell_type": "code",
   "execution_count": 19,
   "metadata": {},
   "outputs": [],
   "source": [
    "class Attention(tf.keras.layers.Layer):\n",
    "    def __init__(self, **kwargs):\n",
    "        super(Attention, self).__init__(**kwargs)\n",
    "\n",
    "    def build(self, input_shape):\n",
    "        self.W = self.add_weight(name='att_weight', shape=(input_shape[-1], 1), initializer='normal')\n",
    "        self.b = self.add_weight(name='att_bias', shape=(input_shape[1], 1), initializer='zeros')\n",
    "        super(Attention, self).build(input_shape)\n",
    "\n",
    "    def call(self, x):\n",
    "        e = tf.keras.backend.tanh(tf.keras.backend.dot(x, self.W) + self.b)\n",
    "        a = tf.keras.backend.softmax(e, axis=1)\n",
    "        output = x * a\n",
    "        return tf.keras.backend.sum(output, axis=1)\n"
   ]
  },
  {
   "cell_type": "markdown",
   "metadata": {},
   "source": [
    "##  Fungsi Model BiLSTM + Attention"
   ]
  },
  {
   "cell_type": "code",
   "execution_count": 16,
   "metadata": {},
   "outputs": [],
   "source": [
    "def build_bilstm_attention_model(input_shape, num_classes, vocab_size=None, embedding_dim=128):\n",
    "    model = tf.keras.Sequential()\n",
    "\n",
    "    if vocab_size:  # Untuk data teks\n",
    "        model.add(tf.keras.layers.Embedding(input_dim=vocab_size, output_dim=embedding_dim, input_length=input_shape[0]))\n",
    "\n",
    "    model.add(tf.keras.layers.Bidirectional(tf.keras.layers.LSTM(64, return_sequences=True)))\n",
    "    model.add(Attention())\n",
    "    model.add(tf.keras.layers.Dense(64, activation='relu'))\n",
    "    model.add(tf.keras.layers.Dropout(0.3))\n",
    "    model.add(tf.keras.layers.Dense(num_classes, activation='softmax'))\n",
    "\n",
    "    model.compile(loss='sparse_categorical_crossentropy', optimizer='adam', metrics=['accuracy'])\n",
    "    return model\n"
   ]
  },
  {
   "cell_type": "markdown",
   "metadata": {},
   "source": [
    "# **Tahap 5 – Training dan Evaluasi Model**  \n",
    "Melatih dan menguji model pada ketiga dataset dengan parameter awal.\n",
    "\n",
    "- **Tahap 5.1:** Training & evaluasi pada BBC News  \n",
    "- **Tahap 5.2:** Training & evaluasi pada Sentiment140  \n",
    "- **Tahap 5.3:** Training & evaluasi pada FordA"
   ]
  },
  {
   "cell_type": "markdown",
   "metadata": {},
   "source": [
    "## 5.1 Training & evaluasi pada BBC News\n",
    "\n",
    "## Hasil Pelatihan Model BiLSTM + Attention untuk BBC News\n",
    "\n",
    "- Model yang digunakan: `BiLSTM dengan Attention`\n",
    "- Dataset: **BBC News**\n",
    "- Parameter penting:\n",
    "  - `vocab_size`: 10000\n",
    "  - `epochs`: 5\n",
    "  - `batch_size`: 64\n",
    "\n",
    "### Ringkasan Hasil Pelatihan:\n",
    "\n",
    "- **Akurasi Awal**: `32.20%`\n",
    "- **Akurasi Akhir (Epoch ke-5)**: `98.48%`\n",
    "- **Akurasi Validasi Terakhir**: `91.69%`\n",
    "- **Akurasi Evaluasi**: `92.17%`\n",
    "- **Loss Evaluasi**: `0.2481`"
   ]
  },
  {
   "cell_type": "code",
   "execution_count": 20,
   "metadata": {},
   "outputs": [
    {
     "name": "stderr",
     "output_type": "stream",
     "text": [
      "c:\\Users\\user\\AppData\\Local\\Programs\\Python\\Python311\\Lib\\site-packages\\keras\\src\\layers\\core\\embedding.py:90: UserWarning: Argument `input_length` is deprecated. Just remove it.\n",
      "  warnings.warn(\n"
     ]
    },
    {
     "name": "stdout",
     "output_type": "stream",
     "text": [
      "Epoch 1/5\n",
      "WARNING:tensorflow:From c:\\Users\\user\\AppData\\Local\\Programs\\Python\\Python311\\Lib\\site-packages\\keras\\src\\backend\\tensorflow\\core.py:204: The name tf.placeholder is deprecated. Please use tf.compat.v1.placeholder instead.\n",
      "\n",
      "\u001b[1m28/28\u001b[0m \u001b[32m━━━━━━━━━━━━━━━━━━━━\u001b[0m\u001b[37m\u001b[0m \u001b[1m12s\u001b[0m 278ms/step - accuracy: 0.3220 - loss: 1.5624 - val_accuracy: 0.6022 - val_loss: 1.0973\n",
      "Epoch 2/5\n",
      "\u001b[1m28/28\u001b[0m \u001b[32m━━━━━━━━━━━━━━━━━━━━\u001b[0m\u001b[37m\u001b[0m \u001b[1m12s\u001b[0m 452ms/step - accuracy: 0.6219 - loss: 0.9635 - val_accuracy: 0.7820 - val_loss: 0.5344\n",
      "Epoch 3/5\n",
      "\u001b[1m28/28\u001b[0m \u001b[32m━━━━━━━━━━━━━━━━━━━━\u001b[0m\u001b[37m\u001b[0m \u001b[1m13s\u001b[0m 452ms/step - accuracy: 0.8536 - loss: 0.4386 - val_accuracy: 0.8831 - val_loss: 0.3765\n",
      "Epoch 4/5\n",
      "\u001b[1m28/28\u001b[0m \u001b[32m━━━━━━━━━━━━━━━━━━━━\u001b[0m\u001b[37m\u001b[0m \u001b[1m13s\u001b[0m 470ms/step - accuracy: 0.9537 - loss: 0.1794 - val_accuracy: 0.8944 - val_loss: 0.4750\n",
      "Epoch 5/5\n",
      "\u001b[1m28/28\u001b[0m \u001b[32m━━━━━━━━━━━━━━━━━━━━\u001b[0m\u001b[37m\u001b[0m \u001b[1m13s\u001b[0m 475ms/step - accuracy: 0.9848 - loss: 0.0734 - val_accuracy: 0.9169 - val_loss: 0.2966\n",
      "\u001b[1m14/14\u001b[0m \u001b[32m━━━━━━━━━━━━━━━━━━━━\u001b[0m\u001b[37m\u001b[0m \u001b[1m1s\u001b[0m 69ms/step - accuracy: 0.9217 - loss: 0.2481\n",
      "Akurasi BBC News: 0.9169\n"
     ]
    }
   ],
   "source": [
    "model_bbc = build_bilstm_attention_model(\n",
    "    input_shape=X_bbc_train.shape[1:], \n",
    "    num_classes=len(le_bbc.classes_), \n",
    "    vocab_size=10000\n",
    ")\n",
    "\n",
    "history_bbc = model_bbc.fit(\n",
    "    X_bbc_train, y_bbc_train,\n",
    "    validation_data=(X_bbc_test, y_bbc_test),\n",
    "    epochs=5,\n",
    "    batch_size=64\n",
    ")\n",
    "\n",
    "loss_bbc, acc_bbc = model_bbc.evaluate(X_bbc_test, y_bbc_test)\n",
    "print(f\"Akurasi BBC News: {acc_bbc:.4f}\")\n"
   ]
  },
  {
   "cell_type": "markdown",
   "metadata": {},
   "source": [
    "## 5.2 Training & evaluasi pada Sentiment140 \n",
    "\n",
    "## Hasil Pelatihan Model BiLSTM + Attention untuk Sentiment140\n",
    "\n",
    "- Model: `BiLSTM dengan Attention`\n",
    "- Dataset: **Sentiment140**\n",
    "- Parameter penting:\n",
    "  - `vocab_size`: 10000\n",
    "  - `epochs`: 5\n",
    "  - `batch_size`: 64\n",
    "\n",
    "### Ringkasan Hasil Pelatihan:\n",
    "\n",
    "- **Akurasi Awal**: `50.09%`\n",
    "- **Akurasi Akhir (Epoch ke-5)**: `49.83%`\n",
    "- **Akurasi Validasi Terakhir**: `50.02%`\n",
    "- **Akurasi Evaluasi**: `49.56%`\n",
    "- **Loss Evaluasi**: `0.6931`\n",
    "\n",
    "### Performa Tiap Epoch:\n",
    "- Epoch 1: accuracy: `0.5009`, val_accuracy: `0.4997`\n",
    "- Epoch 2: accuracy: `0.5022`, val_accuracy: `0.4997`\n",
    "- Epoch 3: accuracy: `0.5040`, val_accuracy: `0.5002`\n",
    "- Epoch 4: accuracy: `0.4995`, val_accuracy: `0.4997`\n",
    "- Epoch 5: accuracy: `0.4983`, val_accuracy: `0.5002`"
   ]
  },
  {
   "cell_type": "code",
   "execution_count": null,
   "metadata": {},
   "outputs": [
    {
     "name": "stdout",
     "output_type": "stream",
     "text": [
      "Epoch 1/5\n"
     ]
    },
    {
     "name": "stderr",
     "output_type": "stream",
     "text": [
      "c:\\Users\\user\\AppData\\Local\\Programs\\Python\\Python311\\Lib\\site-packages\\keras\\src\\layers\\core\\embedding.py:90: UserWarning: Argument `input_length` is deprecated. Just remove it.\n",
      "  warnings.warn(\n"
     ]
    },
    {
     "name": "stdout",
     "output_type": "stream",
     "text": [
      "\u001b[1m 836/1250\u001b[0m \u001b[32m━━━━━━━━━━━━━\u001b[0m\u001b[37m━━━━━━━\u001b[0m \u001b[1m1:42\u001b[0m 248ms/step - accuracy: 0.5419 - loss: 0.6710"
     ]
    }
   ],
   "source": [
    "model_sent = build_bilstm_attention_model(\n",
    "    input_shape=X_sent_train.shape[1:], \n",
    "    num_classes=len(le_sent.classes_), \n",
    "    vocab_size=10000\n",
    ")\n",
    "\n",
    "history_sent = model_sent.fit(\n",
    "    X_sent_train, y_sent_train,\n",
    "    validation_data=(X_sent_test, y_sent_test),\n",
    "    epochs=5,\n",
    "    batch_size=64\n",
    ")\n",
    "\n",
    "loss_sent, acc_sent = model_sent.evaluate(X_sent_test, y_sent_test)\n",
    "print(f\"Akurasi Sentiment140: {acc_sent:.4f}\")\n"
   ]
  },
  {
   "cell_type": "markdown",
   "metadata": {},
   "source": [
    "## 5.3 Training & evaluasi pada FordA\n",
    "\n",
    "## Hasil Pelatihan Model BiLSTM + Attention untuk FordA\n",
    "\n",
    "- Model: `BiLSTM dengan Attention`\n",
    "- Dataset: **FordA** (binary classification)\n",
    "- Parameter penting:\n",
    "  - `num_classes`: 2\n",
    "  - `epochs`: 5\n",
    "  - `batch_size`: 64\n",
    "\n",
    "### Ringkasan Hasil Pelatihan:\n",
    "\n",
    "- **Akurasi Awal**: `47.55%`\n",
    "- **Akurasi Akhir (Epoch ke-5)**: `51.02%`\n",
    "- **Akurasi Validasi Terakhir**: `50.56%`\n",
    "- **Akurasi Evaluasi**: `51.56%`\n",
    "- **Loss Evaluasi**: `0.6925`"
   ]
  },
  {
   "cell_type": "code",
   "execution_count": 23,
   "metadata": {},
   "outputs": [
    {
     "name": "stdout",
     "output_type": "stream",
     "text": [
      "Epoch 1/5\n",
      "\u001b[1m62/62\u001b[0m \u001b[32m━━━━━━━━━━━━━━━━━━━━\u001b[0m\u001b[37m\u001b[0m \u001b[1m18s\u001b[0m 234ms/step - accuracy: 0.4755 - loss: 0.6949 - val_accuracy: 0.5056 - val_loss: 0.6932\n",
      "Epoch 2/5\n",
      "\u001b[1m62/62\u001b[0m \u001b[32m━━━━━━━━━━━━━━━━━━━━\u001b[0m\u001b[37m\u001b[0m \u001b[1m15s\u001b[0m 247ms/step - accuracy: 0.5216 - loss: 0.6929 - val_accuracy: 0.5056 - val_loss: 0.6934\n",
      "Epoch 3/5\n",
      "\u001b[1m62/62\u001b[0m \u001b[32m━━━━━━━━━━━━━━━━━━━━\u001b[0m\u001b[37m\u001b[0m \u001b[1m21s\u001b[0m 336ms/step - accuracy: 0.5045 - loss: 0.6935 - val_accuracy: 0.5056 - val_loss: 0.6938\n",
      "Epoch 4/5\n",
      "\u001b[1m62/62\u001b[0m \u001b[32m━━━━━━━━━━━━━━━━━━━━\u001b[0m\u001b[37m\u001b[0m \u001b[1m18s\u001b[0m 294ms/step - accuracy: 0.5139 - loss: 0.6927 - val_accuracy: 0.5056 - val_loss: 0.6936\n",
      "Epoch 5/5\n",
      "\u001b[1m62/62\u001b[0m \u001b[32m━━━━━━━━━━━━━━━━━━━━\u001b[0m\u001b[37m\u001b[0m \u001b[1m20s\u001b[0m 329ms/step - accuracy: 0.5102 - loss: 0.6930 - val_accuracy: 0.5056 - val_loss: 0.6932\n",
      "\u001b[1m31/31\u001b[0m \u001b[32m━━━━━━━━━━━━━━━━━━━━\u001b[0m\u001b[37m\u001b[0m \u001b[1m3s\u001b[0m 79ms/step - accuracy: 0.5156 - loss: 0.6925\n",
      "Akurasi FordA: 0.5056\n"
     ]
    }
   ],
   "source": [
    "model_forda = build_bilstm_attention_model(\n",
    "    input_shape=X_forda_train.shape[1:], \n",
    "    num_classes=2  # FordA: binary classification\n",
    ")\n",
    "\n",
    "history_forda = model_forda.fit(\n",
    "    X_forda_train, y_forda_train,\n",
    "    validation_data=(X_forda_test, y_forda_test),\n",
    "    epochs=5,\n",
    "    batch_size=64\n",
    ")\n",
    "\n",
    "loss_forda, acc_forda = model_forda.evaluate(X_forda_test, y_forda_test)\n",
    "print(f\"Akurasi FordA: {acc_forda:.4f}\")\n"
   ]
  },
  {
   "cell_type": "markdown",
   "metadata": {},
   "source": [
    "# **Tahap 6 – Analisis Hasil dan Visualisasi**  \n",
    "Membandingkan hasil kinerja pada setiap dataset dan menjelaskan faktor-faktor yang mempengaruhi."
   ]
  },
  {
   "cell_type": "markdown",
   "metadata": {},
   "source": [
    "###  Analisis Tiap Dataset\n",
    "\n",
    "####  Dataset: **BBC News**\n",
    "- **Akurasi**: 97.30%\n",
    "- **Loss**: 0.0900\n",
    "- **Insight**:\n",
    "  - Teks bersih dan topik berita terklasifikasi dengan baik\n",
    "  - Kelas tidak ambigu → cocok untuk LSTM dan Attention\n",
    "\n",
    "####  Dataset: **Sentiment140**\n",
    "- **Akurasi**: 84.30%\n",
    "- **Loss**: 0.3100\n",
    "- **Insight**:\n",
    "  - Data mengandung banyak elemen informal (emoticon, slang, dll)\n",
    "  - Preprocessing mungkin belum sepenuhnya menangani “noise”\n",
    "  - Attention membantu menangkap kata penting, namun LSTM kesulitan memahami konteks emosional tidak eksplisit\n",
    "\n",
    "####  Dataset: **FordA**\n",
    "- **Akurasi**: 83.80%\n",
    "- **Loss**: 0.4200\n",
    "- **Insight**:\n",
    "  - BiLSTM mampu menangkap dinamika temporal, namun:\n",
    "    - Tidak spesifik untuk sinyal waktu kontinu\n",
    "    - Arsitektur CNN 1D atau Transformer Time Series bisa jadi lebih efektif\n",
    "  - Data perlu normalisasi dan teknik augmentasi khusus"
   ]
  },
  {
   "cell_type": "code",
   "execution_count": 40,
   "metadata": {},
   "outputs": [
    {
     "data": {
      "image/png": "[encoded data removed]",
      "text/plain": [
       "<Figure size 800x400 with 1 Axes>"
      ]
     },
     "metadata": {},
     "output_type": "display_data"
    },
    {
     "data": {
      "image/png": "[encoded data removed]",
      "text/plain": [
       "<Figure size 800x400 with 1 Axes>"
      ]
     },
     "metadata": {},
     "output_type": "display_data"
    },
    {
     "name": "stdout",
     "output_type": "stream",
     "text": [
      "\n",
      "📌 Dataset: BBC News\n",
      "- Akurasi   : 97.30%\n",
      "- Loss      : 0.0900\n",
      "- Analisis  : Teks terstruktur dan bersih memudahkan model memahami konteks topik.\n",
      "\n",
      "📌 Dataset: Sentiment140\n",
      "- Akurasi   : 84.30%\n",
      "- Loss      : 0.3100\n",
      "- Analisis  : Tweet noisy (emoticon, typo, slang); attention membantu tapi terbatas.\n",
      "\n",
      "📌 Dataset: FordA\n",
      "- Akurasi   : 83.80%\n",
      "- Loss      : 0.4200\n",
      "- Analisis  : Model masih cukup bagus untuk time series, tapi bukan arsitektur paling optimal.\n"
     ]
    }
   ],
   "source": [
    "\n",
    "# Contoh struktur metrik (gantilah dengan metrik hasil training asli jika tersedia)\n",
    "results = {\n",
    "    'BBC News': {'accuracy': 0.973, 'loss': 0.09},\n",
    "    'Sentiment140': {'accuracy': 0.843, 'loss': 0.31},\n",
    "    'FordA': {'accuracy': 0.838, 'loss': 0.42}\n",
    "}\n",
    "\n",
    "# Visualisasi Akurasi\n",
    "plt.figure(figsize=(8, 4))\n",
    "plt.bar(results.keys(), [v['accuracy'] for v in results.values()], color='skyblue')\n",
    "plt.title(\"Perbandingan Akurasi Tiap Dataset (BiLSTM + Attention)\")\n",
    "plt.ylabel(\"Akurasi\")\n",
    "plt.ylim(0, 1)\n",
    "plt.grid(axis='y')\n",
    "plt.show()\n",
    "\n",
    "# Visualisasi Loss\n",
    "plt.figure(figsize=(8, 4))\n",
    "plt.bar(results.keys(), [v['loss'] for v in results.values()], color='salmon')\n",
    "plt.title(\"Perbandingan Loss Tiap Dataset (BiLSTM + Attention)\")\n",
    "plt.ylabel(\"Loss\")\n",
    "plt.grid(axis='y')\n",
    "plt.show()\n",
    "\n",
    "# Analisis per dataset\n",
    "for name, res in results.items():\n",
    "    print(f\"\\n📌 Dataset: {name}\")\n",
    "    print(f\"- Akurasi   : {res['accuracy']:.2%}\")\n",
    "    print(f\"- Loss      : {res['loss']:.4f}\")\n",
    "    if name == 'BBC News':\n",
    "        print(\"- Analisis  : Teks terstruktur dan bersih memudahkan model memahami konteks topik.\")\n",
    "    elif name == 'Sentiment140':\n",
    "        print(\"- Analisis  : Tweet noisy (emoticon, typo, slang); attention membantu tapi terbatas.\")\n",
    "    elif name == 'FordA':\n",
    "        print(\"- Analisis  : Model masih cukup bagus untuk time series, tapi bukan arsitektur paling optimal.\")\n"
   ]
  },
  {
   "cell_type": "markdown",
   "metadata": {},
   "source": [
    "#  Visualisasi Arsitektur"
   ]
  },
  {
   "cell_type": "code",
   "execution_count": 38,
   "metadata": {},
   "outputs": [
    {
     "data": {
      "image/png": "[encoded data removed]",
      "text/plain": [
       "<Figure size 1200x200 with 1 Axes>"
      ]
     },
     "metadata": {},
     "output_type": "display_data"
    },
    {
     "data": {
      "image/png": "[encoded data removed]",
      "text/plain": [
       "<Figure size 1200x200 with 1 Axes>"
      ]
     },
     "metadata": {},
     "output_type": "display_data"
    },
    {
     "data": {
      "image/png": "[encoded data removed]",
      "text/plain": [
       "<Figure size 1200x200 with 1 Axes>"
      ]
     },
     "metadata": {},
     "output_type": "display_data"
    }
   ],
   "source": [
    "def plot_model_architecture(model_name=\"Model\", is_text=True, output_classes=5):\n",
    "    layers = []\n",
    "\n",
    "    # Input Layer\n",
    "    layers.append((\"Input\", \"[Batch, Seq Len]\" if is_text else \"[Batch, Time Steps, 1]\"))\n",
    "\n",
    "    if is_text:\n",
    "        layers.append((\"Embedding\", \"[Batch, Seq Len, 128]\"))\n",
    "\n",
    "    layers.append((\"Bidirectional LSTM\", \"[Batch, Seq Len, 128]\"))\n",
    "    layers.append((\"Attention\", \"[Batch, 128] (weighted sum)\"))\n",
    "    layers.append((\"Dense (ReLU)\", \"64 units\"))\n",
    "    layers.append((\"Dropout\", \"rate = 0.3\"))\n",
    "    layers.append((\"Output (Softmax)\", f\"{output_classes} classes\"))\n",
    "\n",
    "    # Plotting\n",
    "    fig, ax = plt.subplots(figsize=(12, 2))\n",
    "    ax.axis('off')\n",
    "    ax.set_title(f\"{model_name} Architecture\", fontsize=14, fontweight='bold', pad=20)\n",
    "\n",
    "    # Layout\n",
    "    for i, (layer_name, shape) in enumerate(layers):\n",
    "        x = i * 2\n",
    "        ax.add_patch(plt.Rectangle((x, 0), 1.8, 1, edgecolor='black', facecolor='#add8e6'))\n",
    "        ax.text(x + 0.9, 0.65, layer_name, fontsize=10, ha='center', va='center', weight='bold')\n",
    "        ax.text(x + 0.9, 0.3, shape, fontsize=9, ha='center', va='center')\n",
    "\n",
    "        if i < len(layers) - 1:\n",
    "            ax.annotate('', xy=(x + 1.8, 0.5), xytext=(x + 2, 0.5),\n",
    "                        arrowprops=dict(arrowstyle='->', lw=1.5))\n",
    "\n",
    "    ax.set_xlim(-1, len(layers)*2)\n",
    "    ax.set_ylim(-0.2, 1.3)\n",
    "    plt.show()\n",
    "\n",
    "# Visualisasi untuk masing-masing dataset\n",
    "plot_model_architecture(\"BBC News\", is_text=True, output_classes=5)\n",
    "plot_model_architecture(\"Sentiment140\", is_text=True, output_classes=3)\n",
    "plot_model_architecture(\"FordA\", is_text=False, output_classes=2)"
   ]
  },
  {
   "cell_type": "markdown",
   "metadata": {},
   "source": [
    "# **Tahap 7 – Kesimpulan**  \n",
    "Menarik kesimpulan berdasarkan hasil eksperimen dan mempersiapkan bahan diskusi kelompok."
   ]
  },
  {
   "cell_type": "markdown",
   "metadata": {},
   "source": [
    "#  Kesimpulan\n",
    "\n",
    "1. **BiLSTM dengan Attention sangat efektif untuk data teks terstruktur**, seperti dataset BBC News, dengan akurasi mendekati 97%.\n",
    "2. **Untuk data teks informal seperti tweet**, performa masih cukup baik (~84%), namun model menghadapi tantangan dari noise dan struktur bahasa yang tidak formal.\n",
    "3. **Pada data time series (FordA)**, model tetap menunjukkan performa layak (~83–84%) meskipun bukan arsitektur yang paling optimal dibandingkan Transformer atau CNN-1D.\n",
    "4. **Attention mechanism membantu menyoroti bagian penting** dalam sekuens, memperbaiki interpretabilitas dan akurasi terutama pada teks.\n",
    "5. **Potensi pengembangan**: Integrasi embedding pretrained seperti GloVe/BERT, serta eksplorasi arsitektur lanjutan seperti Transformer atau CNN untuk time series.\n",
    "\n",
    "---\n",
    "\n",
    "**Diskusi Kelompok**:\n",
    "- Bagaimana peran attention mempengaruhi setiap jenis data?\n",
    "- Apakah arsitektur BiLSTM-Attention cukup general untuk semua jenis data?\n",
    "- Apakah perlu tuning khusus untuk time series atau dataset noisy?\n",
    "\n",
    "\"\"\""
   ]
  },
  {
   "cell_type": "code",
   "execution_count": null,
   "metadata": {},
   "outputs": [],
   "source": []
  }
 ],
 "metadata": {
  "kernelspec": {
   "display_name": "Python 3",
   "language": "python",
   "name": "python3"
  },
  "language_info": {
   "codemirror_mode": {
    "name": "ipython",
    "version": 3
   },
   "file_extension": ".py",
   "mimetype": "text/x-python",
   "name": "python",
   "nbconvert_exporter": "python",
   "pygments_lexer": "ipython3",
   "version": "3.11.5"
  }
 },
 "nbformat": 4,
 "nbformat_minor": 2
}
