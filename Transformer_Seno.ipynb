{
 "cells": [
  {
   "cell_type": "markdown",
   "metadata": {},
   "source": [
    "# **IMPLEMENTASI DAN EKSPERIMEN MODEL TRANSFORMER PADA TIGA DATASET UNTUK MENENTUKAN KINERJA TERBAIK**\n",
    "\n",
    "Nama  : Maulana Seno Aji Yudhantara  \n",
    "NRP   : 152022065  \n",
    "Kelas : IFB-454 DEEP LEARNING  \n",
    "\n",
    "## Konteks Proyek Kelompok:\n",
    "Bagian dari tugas kelompok yang menguji tiga arsitektur deep learning berbeda pada tiga dataset yang sama. Notebook ini fokus pada eksperimen dan optimasi model Transformer.\n",
    "\n",
    "## Tujuan Eksperimen:\n",
    "Notebook ini bertujuan mengimplementasikan arsitektur Transformer dan melakukan eksperimen untuk mencari konfigurasi parameter terbaik pada tiga dataset yang telah ditentukan kelompok: BBC News, Sentiment140, dan FordA (UCR Time Series).  \n",
    "Setiap dataset memiliki karakteristik berbeda (teks dan time series) sehingga diperlukan preprocessing dan penyesuaian model yang sesuai.\n",
    "\n",
    "## Dataset yang Digunakan:\n",
    "1. **BBC News**  \n",
    "   - Jenis: Teks (klasifikasi topik berita)  \n",
    "   - Deskripsi: Dataset berisi artikel berita BBC yang dikelompokkan ke dalam beberapa kategori topik.  \n",
    "\n",
    "2. **Sentiment140**  \n",
    "   - Jenis: Teks (klasifikasi sentimen tweet)  \n",
    "   - Deskripsi: Dataset tweet Twitter yang dilabeli sentimen positif, negatif, dan netral.  \n",
    "\n",
    "3. **FordA (UCR Time Series Classification)**  \n",
    "   - Jenis: Time Series (klasifikasi deret waktu)  \n",
    "   - Deskripsi: Dataset data sensor mobil Ford yang bertujuan klasifikasi kondisi berdasarkan sinyal time series.  \n",
    "\n",
    "## Rencana Implementasi:\n",
    "- Import library yang diperlukan  \n",
    "- Memuat dan eksplorasi dataset  \n",
    "- Preprocessing data sesuai kebutuhan Transformer  \n",
    "- Definisi dan pelatihan model Transformer dengan variasi parameter  \n",
    "- Evaluasi dan visualisasi hasil performa model  \n",
    "\n",
    "## Output yang Dihasilkan:\n",
    "- Source code lengkap model Transformer  \n",
    "- Hasil evaluasi performa dan parameter terbaik  \n",
    "- Penjelasan teknis dan hasil eksperimen sebagai bahan laporan kelompok  \n"
   ]
  },
  {
   "cell_type": "markdown",
   "metadata": {},
   "source": [
    "# **Tahap 1 – Import Semua Library** \n",
    "Melakukan import seluruh library yang dibutuhkan mulai dari data handling, preprocessing, pembuatan model, hingga evaluasi dan visualisasi. Semua import dilakukan di satu cell agar terorganisasi rapi."
   ]
  },
  {
   "cell_type": "code",
   "execution_count": 1,
   "metadata": {},
   "outputs": [
    {
     "ename": "ModuleNotFoundError",
     "evalue": "No module named 'transformers'",
     "output_type": "error",
     "traceback": [
      "\u001b[1;31m---------------------------------------------------------------------------\u001b[0m",
      "\u001b[1;31mModuleNotFoundError\u001b[0m                       Traceback (most recent call last)",
      "Cell \u001b[1;32mIn[1], line 16\u001b[0m\n\u001b[0;32m     14\u001b[0m \u001b[38;5;28;01mimport\u001b[39;00m \u001b[38;5;21;01mtorch\u001b[39;00m\u001b[38;5;21;01m.\u001b[39;00m\u001b[38;5;21;01mnn\u001b[39;00m \u001b[38;5;28;01mas\u001b[39;00m \u001b[38;5;21;01mnn\u001b[39;00m\n\u001b[0;32m     15\u001b[0m \u001b[38;5;28;01mfrom\u001b[39;00m \u001b[38;5;21;01mtorch\u001b[39;00m\u001b[38;5;21;01m.\u001b[39;00m\u001b[38;5;21;01mutils\u001b[39;00m\u001b[38;5;21;01m.\u001b[39;00m\u001b[38;5;21;01mdata\u001b[39;00m \u001b[38;5;28;01mimport\u001b[39;00m Dataset, DataLoader\n\u001b[1;32m---> 16\u001b[0m \u001b[38;5;28;01mfrom\u001b[39;00m \u001b[38;5;21;01mtransformers\u001b[39;00m \u001b[38;5;28;01mimport\u001b[39;00m BertTokenizer, BertModel  \u001b[38;5;66;03m# Jika pakai Huggingface Transformer (opsional)\u001b[39;00m\n\u001b[0;32m     17\u001b[0m \u001b[38;5;28;01mfrom\u001b[39;00m \u001b[38;5;21;01msklearn\u001b[39;00m\u001b[38;5;21;01m.\u001b[39;00m\u001b[38;5;21;01mmodel_selection\u001b[39;00m \u001b[38;5;28;01mimport\u001b[39;00m train_test_split\n\u001b[0;32m     18\u001b[0m \u001b[38;5;28;01mfrom\u001b[39;00m \u001b[38;5;21;01msklearn\u001b[39;00m\u001b[38;5;21;01m.\u001b[39;00m\u001b[38;5;21;01mpreprocessing\u001b[39;00m \u001b[38;5;28;01mimport\u001b[39;00m LabelEncoder\n",
      "\u001b[1;31mModuleNotFoundError\u001b[0m: No module named 'transformers'"
     ]
    }
   ],
   "source": [
    "# Cell Code: Import Library\n",
    "import os\n",
    "import numpy as np\n",
    "import pandas as pd\n",
    "import matplotlib.pyplot as plt\n",
    "import seaborn as sns\n",
    "\n",
    "# Untuk pemrosesan teks\n",
    "import re\n",
    "import string\n",
    "\n",
    "# Library untuk machine learning dan deep learning\n",
    "import torch\n",
    "import torch.nn as nn\n",
    "from torch.utils.data import Dataset, DataLoader\n",
    "from transformers import BertTokenizer, BertModel  # Jika pakai Huggingface Transformer (opsional)\n",
    "from sklearn.model_selection import train_test_split\n",
    "from sklearn.preprocessing import LabelEncoder\n",
    "from sklearn.metrics import accuracy_score, classification_report, confusion_matrix\n",
    "\n",
    "# Untuk time series (jika perlu preprocessing khusus)\n",
    "from scipy import stats\n",
    "\n",
    "# Untuk progress bar\n",
    "from tqdm.notebook import tqdm\n",
    "\n",
    "# Set device\n",
    "device = torch.device('cuda' if torch.cuda.is_available() else 'cpu')\n",
    "print(f'Using device: {device}')\n"
   ]
  },
  {
   "cell_type": "markdown",
   "metadata": {},
   "source": [
    "# **Tahap 2 – Load Dataset**\n",
    "Memuat ketiga dataset ke memori notebook. Setiap dataset akan dibaca sesuai format dan disiapkan untuk tahap preprocessing.\n",
    "\n",
    "- **Tahap 2.1:** Load dataset BBC News  \n",
    "- **Tahap 2.2:** Load dataset Sentiment140  \n",
    "- **Tahap 2.3:** Load dataset FordA    "
   ]
  },
  {
   "cell_type": "code",
   "execution_count": null,
   "metadata": {},
   "outputs": [],
   "source": []
  },
  {
   "cell_type": "markdown",
   "metadata": {},
   "source": [
    "# **Tahap 3 - Preprocessing Dataset**\n",
    "Melakukan persiapan data sesuai kebutuhan tipe dataset.\n",
    "- **Tahap 3.1:** Preprocessing BBC News — pembersihan teks, tokenisasi, encoding label, dan pembagian data train-test.  \n",
    "- **Tahap 3.2:** Preprocessing Sentiment140 — pembersihan tweet (hapus URL, tanda baca, stopwords), tokenisasi, encoding label, pembagian data train-test.  \n",
    "- **Tahap 3.3:** Preprocessing FordA — normalisasi data time series, pembagian data train-test, dan reshaping data agar sesuai input Transformer.\n"
   ]
  },
  {
   "cell_type": "code",
   "execution_count": null,
   "metadata": {},
   "outputs": [],
   "source": []
  },
  {
   "cell_type": "markdown",
   "metadata": {},
   "source": [
    "# **Tahap 4 - Definisi dan Inisialisasi Model Transformer**\n",
    "Mendefinisikan arsitektur Transformer beserta layer-layer penting dan parameter yang akan dieksperimenkan.  "
   ]
  },
  {
   "cell_type": "code",
   "execution_count": null,
   "metadata": {},
   "outputs": [],
   "source": []
  },
  {
   "cell_type": "markdown",
   "metadata": {},
   "source": [
    "# **Tahap 5 – Training dan Evaluasi Model**\n",
    "Melatih model pada ketiga dataset secara bergantian dengan parameter awal, serta evaluasi performa menggunakan metrik yang relevan.\n",
    "\n",
    "- **Tahap 5.1:** Training & evaluasi pada BBC News  \n",
    "- **Tahap 5.2:** Training & evaluasi pada Sentiment140  \n",
    "- **Tahap 5.3:** Training & evaluasi pada FordA  "
   ]
  },
  {
   "cell_type": "code",
   "execution_count": null,
   "metadata": {},
   "outputs": [],
   "source": []
  },
  {
   "cell_type": "markdown",
   "metadata": {},
   "source": [
    "# **Tahap 6 – Analisis Hasil dan Visualisasi**\n",
    "Membandingkan hasil performa model pada ketiga dataset, menampilkan tabel dan grafik hasil eksperimen, serta menganalisis faktor yang mempengaruhi performa.  "
   ]
  },
  {
   "cell_type": "code",
   "execution_count": null,
   "metadata": {},
   "outputs": [],
   "source": []
  },
  {
   "cell_type": "markdown",
   "metadata": {},
   "source": [
    "# **Tahap 7 – Kesimpulan dan Catatan**  \n",
    "Menyimpulkan temuan eksperimen, mengidentifikasi parameter terbaik, dan membuat catatan penting untuk diskusi kelompok."
   ]
  }
 ],
 "metadata": {
  "kernelspec": {
   "display_name": "Python 3",
   "language": "python",
   "name": "python3"
  },
  "language_info": {
   "codemirror_mode": {
    "name": "ipython",
    "version": 3
   },
   "file_extension": ".py",
   "mimetype": "text/x-python",
   "name": "python",
   "nbconvert_exporter": "python",
   "pygments_lexer": "ipython3",
   "version": "3.11.5"
  }
 },
 "nbformat": 4,
 "nbformat_minor": 2
}
