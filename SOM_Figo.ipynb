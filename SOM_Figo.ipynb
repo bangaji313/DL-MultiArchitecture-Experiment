{
  "cells": [
    {
      "cell_type": "markdown",
      "metadata": {
        "id": "lr88LZRIkH5b"
      },
      "source": [
        "# **IMPLEMENTASI DAN EKSPERIMEN ALGORITMA SELF ORGANIZING MAP (SOM) UNTUK KLASTERING DAN KLASIFIKASI PADA TIGA DATASET**\n",
        "\n",
        "Nama  : Muhammad Figo Razzan Fadillah\n",
        "\n",
        "NRP   : 152022064\n",
        "\n",
        "Kelas : IFB-454 DEEP LEARNING  \n",
        "\n",
        "## Konteks Proyek Kelompok:\n",
        "Notebook ini merupakan bagian dari proyek kelompok dengan tiga anggota yang masing-masing menguji arsitektur deep learning berbeda. Fokus notebook ini adalah implementasi dan evaluasi algoritma SOM pada tiga dataset yang sama.\n",
        "\n",
        "## Tujuan Eksperimen:\n",
        "Menguji dan mencari konfigurasi terbaik dari algoritma SOM untuk klastering pada ketiga dataset. Menganalisis faktor yang berkontribusi pada performa terbaik tiap dataset.\n",
        "\n",
        "## Dataset yang Digunakan:\n",
        "1. **BBC News**  \n",
        "   - Jenis: Teks (berita)  \n",
        "   - Tujuan: Clustering dokumen berita berdasarkan topik  \n",
        "\n",
        "2. **Sentiment140**  \n",
        "   - Jenis: Teks (tweet)  \n",
        "   - Tujuan: Clustering tweet untuk analisis sentimen dan pola teks  \n",
        "\n",
        "3. **FordA (UCR Time Series Classification Archive)**  \n",
        "   - Jenis: Time Series  \n",
        "   - Tujuan: Clustering pola sinyal time series  \n",
        "\n",
        "## Rencana Implementasi:\n",
        "- Import library yang diperlukan  \n",
        "- Memuat dan eksplorasi dataset  \n",
        "- Preprocessing data sesuai kebutuhan SOM  \n",
        "- Mendefinisikan dan melatih model SOM dengan parameter yang bervariasi  \n",
        "- Evaluasi performa model menggunakan metrik klasifikasi dan klastering  \n",
        "- Visualisasi hasil dan peta SOM  \n",
        "\n",
        "## Output yang Dihasilkan:\n",
        "- Source code implementasi SOM  \n",
        "- Metrik evaluasi dan hasil klastering/klasifikasi  \n",
        "- Penjelasan model dan parameter yang optimal  \n",
        "- Data pendukung untuk laporan kelompok terkait performa arsitektur SOM  \n"
      ]
    },
    {
      "cell_type": "markdown",
      "metadata": {
        "id": "AR9zDzcSkH5i"
      },
      "source": [
        "# **Tahap 1 - Import Semua Library**\n",
        "  Semua library yang dibutuhkan diimpor pada tahap awal untuk menjaga keteraturan kode."
      ]
    },
    {
      "cell_type": "code",
      "execution_count": 1,
      "metadata": {
        "colab": {
          "base_uri": "https://localhost:8080/"
        },
        "id": "syT0aIockH5j",
        "outputId": "1289a710-8b95-4df7-eee6-71a6f7accee8"
      },
      "outputs": [
        {
          "output_type": "stream",
          "name": "stdout",
          "text": [
            "Collecting minisom\n",
            "  Downloading minisom-2.3.5.tar.gz (12 kB)\n",
            "  Preparing metadata (setup.py) ... \u001b[?25l\u001b[?25hdone\n",
            "Building wheels for collected packages: minisom\n",
            "  Building wheel for minisom (setup.py) ... \u001b[?25l\u001b[?25hdone\n",
            "  Created wheel for minisom: filename=MiniSom-2.3.5-py3-none-any.whl size=12031 sha256=71a597b7e5a5360976872bbee62e6682df59929e55e505e0571ac1fb9d84e3da\n",
            "  Stored in directory: /root/.cache/pip/wheels/19/db/95/5e53bc2b88a328217fdf9f2886cafbe86b0df274f4b601f572\n",
            "Successfully built minisom\n",
            "Installing collected packages: minisom\n",
            "Successfully installed minisom-2.3.5\n",
            "Mounted at /content/drive\n"
          ]
        },
        {
          "output_type": "stream",
          "name": "stderr",
          "text": [
            "[nltk_data] Downloading package punkt_tab to /root/nltk_data...\n",
            "[nltk_data]   Unzipping tokenizers/punkt_tab.zip.\n",
            "[nltk_data] Downloading package stopwords to /root/nltk_data...\n",
            "[nltk_data]   Unzipping corpora/stopwords.zip.\n"
          ]
        },
        {
          "output_type": "execute_result",
          "data": {
            "text/plain": [
              "True"
            ]
          },
          "metadata": {},
          "execution_count": 1
        }
      ],
      "source": [
        "# === Install Library Tambahan ===\n",
        "!pip install minisom\n",
        "\n",
        "# === Mount Google Drive ===\n",
        "from google.colab import drive\n",
        "drive.mount('/content/drive')\n",
        "\n",
        "# === Data Handling ===\n",
        "import os\n",
        "import pandas as pd\n",
        "import numpy as np\n",
        "\n",
        "# === Text Preprocessing ===\n",
        "import re\n",
        "import string\n",
        "import nltk\n",
        "from nltk.corpus import stopwords\n",
        "from nltk.tokenize import word_tokenize\n",
        "from nltk.stem import PorterStemmer\n",
        "from sklearn.feature_extraction.text import TfidfVectorizer\n",
        "\n",
        "# === Scaling & Machine Learning ===\n",
        "from sklearn.preprocessing import MinMaxScaler, StandardScaler\n",
        "from sklearn.decomposition import PCA\n",
        "from sklearn.utils import shuffle\n",
        "\n",
        "# === SOM ===\n",
        "from minisom import MiniSom\n",
        "\n",
        "# === Visualization ===\n",
        "import matplotlib.pyplot as plt\n",
        "import seaborn as sns\n",
        "\n",
        "# === Warnings ===\n",
        "import warnings\n",
        "warnings.filterwarnings(\"ignore\")\n",
        "\n",
        "# === NLTK Downloads ===\n",
        "nltk.download('punkt_tab')\n",
        "nltk.download('stopwords')\n"
      ]
    },
    {
      "cell_type": "markdown",
      "metadata": {
        "id": "ubvit4qekH5m"
      },
      "source": [
        "# **Tahap 2 – Load Dataset**\n",
        "Pada tahap ini, ketiga dataset yang akan digunakan dimuat ke dalam notebook sesuai format dan struktur masing-masing. Proses pemuatan dilakukan sebagai berikut:\n",
        "\n",
        "- **Tahap 2.1:** Load dataset **BBC News** dari folder per kategori, setiap file teks dibaca dan label diambil dari nama folder kategori. Data disimpan dalam DataFrame dengan kolom `text` dan `label`.\n",
        "- **Tahap 2.2:** Load dataset **FordA** (UCR format) dengan fungsi khusus untuk membaca file .txt, memisahkan label dan data time series, lalu menggabungkan data train dan test menjadi satu array.\n",
        "- **Tahap 2.3:** Load dataset **Sentiment140** dari file CSV, membaca seluruh data tweet dan kolom target, lalu menyimpan ke DataFrame dengan nama kolom yang sesuai.\n",
        "\n",
        "Setelah semua dataset berhasil dimuat, dilakukan eksplorasi awal dengan menampilkan jumlah data dan contoh isi data dari masing-masing dataset."
      ]
    },
    {
      "cell_type": "code",
      "execution_count": 2,
      "metadata": {
        "colab": {
          "base_uri": "https://localhost:8080/"
        },
        "id": "vU1Fh5yckH5n",
        "outputId": "59dc84db-2cd8-4567-9db1-0d5946123461"
      },
      "outputs": [
        {
          "output_type": "stream",
          "name": "stdout",
          "text": [
            "[BBC] Loaded 2225 documents.\n",
            "[FordA] Loaded 4921 samples with 500 time steps.\n",
            "[Sentiment140] Loaded 1600000 tweets.\n",
            "\n",
            "[BBC sample]\n",
            "                                                text label\n",
            "0  Sony PSP tipped as a 'must-have'\\n\\nSony's Pla...  tech\n",
            "\n",
            "[FordA sample]\n",
            "Label: -1\n",
            "Time series: [-0.79717168 -0.66439208 -0.37301463  0.04081512  0.52693599  0.98428794\n",
            "  1.3531202   1.5781078   1.6592509   1.6408093 ] ...\n",
            "\n",
            "[Sentiment140 sample]\n",
            "   target                                               text\n",
            "0       0  @switchfoot http://twitpic.com/2y1zl - Awww, t...\n"
          ]
        }
      ],
      "source": [
        "# === Set root path dari Google Drive ===\n",
        "base_path = '/content/drive/MyDrive/DL-MultiArchitecture-Experiment/dataset/'\n",
        "\n",
        "# === Load BBC News Dataset ===\n",
        "bbc_root_path = os.path.join(base_path, 'BBCNews')\n",
        "bbc_texts = []\n",
        "bbc_labels = []\n",
        "\n",
        "for category in os.listdir(bbc_root_path):\n",
        "    category_path = os.path.join(bbc_root_path, category)\n",
        "    if os.path.isdir(category_path):\n",
        "        for filename in os.listdir(category_path):\n",
        "            if filename.endswith('.txt'):\n",
        "                with open(os.path.join(category_path, filename), 'r', encoding='latin-1') as f:\n",
        "                    content = f.read()\n",
        "                    bbc_texts.append(content)\n",
        "                    bbc_labels.append(category)\n",
        "\n",
        "df_bbc = pd.DataFrame({'text': bbc_texts, 'label': bbc_labels})\n",
        "print(f\"[BBC] Loaded {len(df_bbc)} documents.\")\n",
        "\n",
        "# === Load FordA Dataset (UCR format .txt) ===\n",
        "def load_ucr_ts(file_path):\n",
        "    data = []\n",
        "    labels = []\n",
        "    with open(file_path, 'r') as f:\n",
        "        for line in f:\n",
        "            values = line.strip().split()\n",
        "            labels.append(int(float(values[0])))\n",
        "            ts = list(map(float, values[1:]))\n",
        "            data.append(ts)\n",
        "    return np.array(data), np.array(labels)\n",
        "\n",
        "forda_train_path = os.path.join(base_path, 'FordA/FordA_TRAIN.txt')\n",
        "forda_test_path = os.path.join(base_path, 'FordA/FordA_TEST.txt')\n",
        "\n",
        "X_train_forda, y_train_forda = load_ucr_ts(forda_train_path)\n",
        "X_test_forda, y_test_forda = load_ucr_ts(forda_test_path)\n",
        "\n",
        "X_forda = np.vstack((X_train_forda, X_test_forda))\n",
        "y_forda = np.concatenate((y_train_forda, y_test_forda))\n",
        "print(f\"[FordA] Loaded {X_forda.shape[0]} samples with {X_forda.shape[1]} time steps.\")\n",
        "\n",
        "# === Load Sentiment140 Dataset ===\n",
        "sent140_path = os.path.join(base_path, 'Sentimen140/training.1600000.processed.noemoticon.csv')\n",
        "df_sent = pd.read_csv(sent140_path, encoding='latin-1', header=None)\n",
        "df_sent.columns = ['target', 'id', 'date', 'query', 'user', 'text']\n",
        "print(f\"[Sentiment140] Loaded {len(df_sent)} tweets.\")\n",
        "\n",
        "# Preview sample\n",
        "print(\"\\n[BBC sample]\")\n",
        "print(df_bbc.head(1))\n",
        "\n",
        "print(\"\\n[FordA sample]\")\n",
        "print(\"Label:\", y_forda[0])\n",
        "print(\"Time series:\", X_forda[0][:10], \"...\")\n",
        "\n",
        "print(\"\\n[Sentiment140 sample]\")\n",
        "print(df_sent[['target', 'text']].head(1))\n"
      ]
    },
    {
      "cell_type": "markdown",
      "metadata": {
        "id": "VDRwR437kH5q"
      },
      "source": [
        "# **Tahap 3 – Preprocessing Dataset**\n",
        "\n",
        "Pada tahap ini, dilakukan preprocessing pada masing-masing dataset agar data siap digunakan untuk pelatihan dan evaluasi model SOM. Setiap dataset diproses sesuai karakteristiknya:\n",
        "\n",
        "---\n",
        "\n",
        "## 📝 **Teks (BBC News & Sentiment140)**\n",
        "\n",
        "- Teks dibersihkan menggunakan fungsi `clean_text`, yang terdiri dari beberapa tahap penting:\n",
        "  - Mengubah semua huruf menjadi **lowercase**.\n",
        "  - Menghapus **URL** dengan regex `http\\S+|www.\\S+`, agar link tidak mengganggu analisis teks.\n",
        "  - Menghapus **mention** dan **hashtag** dengan regex `@\\w+|#\\w+`.\n",
        "  - Menghapus **angka** dengan regex `\\d+`.\n",
        "  - Menghapus **tanda baca** menggunakan `string.punctuation`.\n",
        "  - **Tokenisasi** (memecah kalimat menjadi kata-kata).\n",
        "  - Menghapus **stopwords** (kata-kata umum seperti \"the\", \"and\", \"is\", dll) dan kata-kata yang panjangnya kurang dari 3 karakter.\n",
        "  - Hasil akhir berupa teks yang **bersih, padat, dan relevan** untuk analisis lebih lanjut.\n",
        "\n",
        "- Setelah proses pembersihan, teks diubah ke representasi numerik menggunakan **TF-IDF Vectorizer**:\n",
        "  - Dibatasi hanya **1000 fitur** untuk menjaga efisiensi dan menghindari dimensi tinggi.\n",
        "  - Untuk **Sentiment140**, dilakukan **sampling sebanyak 10.000 data secara acak** setelah vektorisasi, karena jumlah data aslinya sangat besar.\n",
        "\n",
        "---\n",
        "\n",
        "## 📈 **Time Series (FordA)**\n",
        "\n",
        "- Dataset FordA berisi data time series (deret waktu) dengan skala nilai yang sangat bervariasi.\n",
        "- Oleh karena itu, digunakan teknik **normalisasi MinMaxScaler**, yaitu mengubah semua nilai fitur ke dalam rentang [0, 1].\n",
        "- Normalisasi ini penting agar SOM bisa memproses data dengan **skala yang seragam**.\n",
        "\n",
        "---\n",
        "\n",
        "## 📊 Tabel Langkah-Langkah Preprocessing\n",
        "\n",
        "| **Dataset**     | **Jenis Data** | **Langkah Preprocessing**                                                                                                                                     |\n",
        "|------------------|----------------|---------------------------------------------------------------------------------------------------------------------------------------------------------------|\n",
        "| **BBC News**     | Teks           | 1. Bersihkan teks dengan `clean_text`<br>2. Hapus URL, mention, hashtag, angka, tanda baca<br>3. Tokenisasi + hapus stopwords dan kata < 3 huruf<br>4. Vektorisasi dengan **TF-IDF Vectorizer** (max_features=1000) |\n",
        "| **Sentiment140** | Teks           | 1. Bersihkan teks dengan `clean_text`<br>2. Hapus URL, mention, hashtag, angka, tanda baca<br>3. Tokenisasi + hapus stopwords dan kata < 3 huruf<br>4. Vektorisasi dengan **TF-IDF Vectorizer** (max_features=1000)<br>5. **Sampling** sebanyak 10.000 data setelah vektorisasi |\n",
        "| **FordA**        | Time Series    | 1. Data numerik langsung (tidak perlu pembersihan teks)<br>2. **Normalisasi** nilai fitur ke rentang [0, 1] menggunakan **MinMaxScaler**                      |\n",
        "\n",
        "\n",
        "## ✅ **Hasil Akhir**\n",
        "\n",
        "Setelah preprocessing, bentuk data dicek untuk memastikan setiap dataset berhasil diubah menjadi representasi numerik yang siap digunakan SOM.\n",
        "\n"
      ]
    },
    {
      "cell_type": "code",
      "execution_count": 3,
      "metadata": {
        "colab": {
          "base_uri": "https://localhost:8080/"
        },
        "id": "NZl4-r43kH5r",
        "outputId": "f210dcbd-6a03-4aec-d4f0-f04d7c559d30"
      },
      "outputs": [
        {
          "output_type": "stream",
          "name": "stdout",
          "text": [
            "[BBC] TF-IDF shape: (2225, 1000)\n",
            "[Sentiment140 - sampled] TF-IDF shape: (10000, 1000)\n",
            "[FordA] Scaled shape: (4921, 500)\n"
          ]
        }
      ],
      "source": [
        "# Siapkan stopwords\n",
        "stop_words = set(stopwords.words('english'))\n",
        "\n",
        "# === Function: Bersihkan teks ===\n",
        "def clean_text(text):\n",
        "    text = text.lower()\n",
        "    text = re.sub(r'http\\S+|www.\\S+', '', text)\n",
        "    text = re.sub(r'@\\w+|#\\w+', '', text)\n",
        "    text = re.sub(r'\\d+', '', text)\n",
        "    text = text.translate(str.maketrans('', '', string.punctuation))\n",
        "    tokens = word_tokenize(text)\n",
        "    tokens = [word for word in tokens if word not in stop_words and len(word) > 2]\n",
        "    return ' '.join(tokens)\n",
        "\n",
        "# === Preprocessing BBC & Sentiment140 ===\n",
        "df_bbc['clean_text'] = df_bbc['text'].apply(clean_text)\n",
        "df_sent['clean_text'] = df_sent['text'].apply(clean_text)\n",
        "\n",
        "# === Vectorisasi TF-IDF (BBC) ===\n",
        "tfidf_bbc = TfidfVectorizer(max_features=1000)\n",
        "X_bbc_tfidf = tfidf_bbc.fit_transform(df_bbc['clean_text']).toarray()\n",
        "\n",
        "# === Vectorisasi TF-IDF (Sentiment140) - SPARSE + SAMPLING ===\n",
        "tfidf_sent = TfidfVectorizer(max_features=1000)\n",
        "X_sent_sparse = tfidf_sent.fit_transform(df_sent['clean_text'])  # tetap dalam bentuk sparse\n",
        "X_sent_sampled = shuffle(X_sent_sparse, random_state=42)[:10000].toarray().astype('float32')  # sampling & convert\n",
        "\n",
        "# === Normalisasi FordA ===\n",
        "scaler = MinMaxScaler()\n",
        "X_forda_scaled = scaler.fit_transform(X_forda)\n",
        "\n",
        "# === Cek hasil ===\n",
        "print(\"[BBC] TF-IDF shape:\", X_bbc_tfidf.shape)\n",
        "print(\"[Sentiment140 - sampled] TF-IDF shape:\", X_sent_sampled.shape)\n",
        "print(\"[FordA] Scaled shape:\", X_forda_scaled.shape)\n"
      ]
    },
    {
      "cell_type": "markdown",
      "metadata": {
        "id": "PrUL4pa2kH5s"
      },
      "source": [
        "# **Tahap 4 – Implementasi dan Pelatihan SOM**  \n",
        "Pada tahap ini dilakukan implementasi dan pelatihan model Self Organizing Map (SOM) pada ketiga dataset yang telah diproses. Proses ini meliputi:\n",
        "\n",
        "- **Pembuatan Fungsi Evaluasi:**\n",
        "  - Fungsi `evaluate_som` digunakan untuk membuat dan melatih SOM dengan parameter tertentu, lalu menghitung quantization error (QE) sebagai metrik evaluasi kualitas klastering.\n",
        "\n",
        "- **Hyperparameter Tuning:**\n",
        "  - Dilakukan pencarian kombinasi parameter terbaik (hyperparameter tuning) menggunakan grid search pada parameter berikut:\n",
        "    - Ukuran grid SOM (`som_x`, `som_y`): menentukan dimensi peta SOM.\n",
        "    - `sigma`: parameter lebar fungsi Gaussian untuk pembaruan bobot.\n",
        "    - `learning_rate` (`lr`): kecepatan pembelajaran SOM.\n",
        "    - `iterations`: jumlah iterasi pelatihan.\n",
        "  - Setiap kombinasi parameter diuji pada masing-masing dataset, dan hasilnya dievaluasi menggunakan quantization error (QE). Semakin kecil QE, semakin baik representasi data oleh SOM.\n",
        "\n",
        "- **Proses Tuning:**\n",
        "  - Untuk setiap dataset (BBC, Sentiment140, FordA), dilakukan pelatihan SOM dengan berbagai kombinasi parameter.\n",
        "  - Konfigurasi dengan nilai QE terendah dipilih sebagai model terbaik untuk dataset tersebut.\n",
        "\n",
        "- **Output:**\n",
        "  - Model SOM terbaik untuk masing-masing dataset disimpan untuk tahap evaluasi dan visualisasi selanjutnya.\n",
        "\n",
        "> **Kesimpulan:**\n",
        "> Tahap ini bertujuan untuk mencari konfigurasi parameter SOM yang optimal melalui hyperparameter tuning, sehingga model dapat melakukan klastering data dengan hasil terbaik sesuai karakteristik masing-masing dataset."
      ]
    },
    {
      "cell_type": "code",
      "execution_count": 4,
      "metadata": {
        "colab": {
          "base_uri": "https://localhost:8080/"
        },
        "id": "1Och_1LgkH5t",
        "outputId": "e40f3984-3048-4412-da01-8e5a3c182441"
      },
      "outputs": [
        {
          "output_type": "stream",
          "name": "stdout",
          "text": [
            "\n",
            "🔍 Starting hyperparameter tuning for BBC...\n",
            "BBC Config: x=10, y=10, sigma=0.5, lr=0.1 → QE=0.9197\n",
            "BBC Config: x=10, y=10, sigma=0.5, lr=0.5 → QE=0.9188\n",
            "BBC Config: x=10, y=10, sigma=1.0, lr=0.1 → QE=0.8944\n",
            "BBC Config: x=10, y=10, sigma=1.0, lr=0.5 → QE=0.9002\n",
            "BBC Config: x=10, y=15, sigma=0.5, lr=0.1 → QE=0.8891\n",
            "BBC Config: x=10, y=15, sigma=0.5, lr=0.5 → QE=0.8936\n",
            "BBC Config: x=10, y=15, sigma=1.0, lr=0.1 → QE=0.8743\n",
            "BBC Config: x=10, y=15, sigma=1.0, lr=0.5 → QE=0.8807\n",
            "BBC Config: x=10, y=20, sigma=0.5, lr=0.1 → QE=0.8647\n",
            "BBC Config: x=10, y=20, sigma=0.5, lr=0.5 → QE=0.8589\n",
            "BBC Config: x=10, y=20, sigma=1.0, lr=0.1 → QE=0.8578\n",
            "BBC Config: x=10, y=20, sigma=1.0, lr=0.5 → QE=0.8648\n",
            "BBC Config: x=15, y=10, sigma=0.5, lr=0.1 → QE=0.8911\n",
            "BBC Config: x=15, y=10, sigma=0.5, lr=0.5 → QE=0.8921\n",
            "BBC Config: x=15, y=10, sigma=1.0, lr=0.1 → QE=0.8727\n",
            "BBC Config: x=15, y=10, sigma=1.0, lr=0.5 → QE=0.8788\n",
            "BBC Config: x=15, y=15, sigma=0.5, lr=0.1 → QE=0.8537\n",
            "BBC Config: x=15, y=15, sigma=0.5, lr=0.5 → QE=0.8572\n",
            "BBC Config: x=15, y=15, sigma=1.0, lr=0.1 → QE=0.8439\n",
            "BBC Config: x=15, y=15, sigma=1.0, lr=0.5 → QE=0.8522\n",
            "BBC Config: x=15, y=20, sigma=0.5, lr=0.1 → QE=0.8252\n",
            "BBC Config: x=15, y=20, sigma=0.5, lr=0.5 → QE=0.8112\n",
            "BBC Config: x=15, y=20, sigma=1.0, lr=0.1 → QE=0.8107\n",
            "BBC Config: x=15, y=20, sigma=1.0, lr=0.5 → QE=0.8214\n",
            "BBC Config: x=20, y=10, sigma=0.5, lr=0.1 → QE=0.8665\n",
            "BBC Config: x=20, y=10, sigma=0.5, lr=0.5 → QE=0.8586\n",
            "BBC Config: x=20, y=10, sigma=1.0, lr=0.1 → QE=0.8589\n",
            "BBC Config: x=20, y=10, sigma=1.0, lr=0.5 → QE=0.8605\n",
            "BBC Config: x=20, y=15, sigma=0.5, lr=0.1 → QE=0.8259\n",
            "BBC Config: x=20, y=15, sigma=0.5, lr=0.5 → QE=0.8045\n",
            "BBC Config: x=20, y=15, sigma=1.0, lr=0.1 → QE=0.8109\n",
            "BBC Config: x=20, y=15, sigma=1.0, lr=0.5 → QE=0.8242\n",
            "BBC Config: x=20, y=20, sigma=0.5, lr=0.1 → QE=0.7767\n",
            "BBC Config: x=20, y=20, sigma=0.5, lr=0.5 → QE=0.7667\n",
            "BBC Config: x=20, y=20, sigma=1.0, lr=0.1 → QE=0.7751\n",
            "BBC Config: x=20, y=20, sigma=1.0, lr=0.5 → QE=0.7878\n",
            "✅ Best config for BBC: {'x': 20, 'y': 20, 'sigma': 0.5, 'lr': 0.5, 'iterations': 1000}\n",
            "✅ Lowest QE for BBC: 0.7667\n",
            "\n",
            "🔍 Starting hyperparameter tuning for Sentiment140...\n",
            "Sentiment140 Config: x=10, y=10, sigma=0.5, lr=0.1 → QE=0.9342\n",
            "Sentiment140 Config: x=10, y=10, sigma=0.5, lr=0.5 → QE=0.9479\n",
            "Sentiment140 Config: x=10, y=10, sigma=1.0, lr=0.1 → QE=0.9324\n",
            "Sentiment140 Config: x=10, y=10, sigma=1.0, lr=0.5 → QE=0.9227\n",
            "Sentiment140 Config: x=10, y=15, sigma=0.5, lr=0.1 → QE=0.9266\n",
            "Sentiment140 Config: x=10, y=15, sigma=0.5, lr=0.5 → QE=0.9332\n",
            "Sentiment140 Config: x=10, y=15, sigma=1.0, lr=0.1 → QE=0.9076\n",
            "Sentiment140 Config: x=10, y=15, sigma=1.0, lr=0.5 → QE=0.9066\n",
            "Sentiment140 Config: x=10, y=20, sigma=0.5, lr=0.1 → QE=0.9119\n",
            "Sentiment140 Config: x=10, y=20, sigma=0.5, lr=0.5 → QE=0.9204\n",
            "Sentiment140 Config: x=10, y=20, sigma=1.0, lr=0.1 → QE=0.9040\n",
            "Sentiment140 Config: x=10, y=20, sigma=1.0, lr=0.5 → QE=0.8981\n",
            "Sentiment140 Config: x=15, y=10, sigma=0.5, lr=0.1 → QE=0.9274\n",
            "Sentiment140 Config: x=15, y=10, sigma=0.5, lr=0.5 → QE=0.9333\n",
            "Sentiment140 Config: x=15, y=10, sigma=1.0, lr=0.1 → QE=0.9157\n",
            "Sentiment140 Config: x=15, y=10, sigma=1.0, lr=0.5 → QE=0.9063\n",
            "Sentiment140 Config: x=15, y=15, sigma=0.5, lr=0.1 → QE=0.9166\n",
            "Sentiment140 Config: x=15, y=15, sigma=0.5, lr=0.5 → QE=0.9147\n",
            "Sentiment140 Config: x=15, y=15, sigma=1.0, lr=0.1 → QE=0.8954\n",
            "Sentiment140 Config: x=15, y=15, sigma=1.0, lr=0.5 → QE=0.8913\n",
            "Sentiment140 Config: x=15, y=20, sigma=0.5, lr=0.1 → QE=0.8892\n",
            "Sentiment140 Config: x=15, y=20, sigma=0.5, lr=0.5 → QE=0.8963\n",
            "Sentiment140 Config: x=15, y=20, sigma=1.0, lr=0.1 → QE=0.8913\n",
            "Sentiment140 Config: x=15, y=20, sigma=1.0, lr=0.5 → QE=0.8737\n",
            "Sentiment140 Config: x=20, y=10, sigma=0.5, lr=0.1 → QE=0.9104\n",
            "Sentiment140 Config: x=20, y=10, sigma=0.5, lr=0.5 → QE=0.9216\n",
            "Sentiment140 Config: x=20, y=10, sigma=1.0, lr=0.1 → QE=0.9023\n",
            "Sentiment140 Config: x=20, y=10, sigma=1.0, lr=0.5 → QE=0.8954\n",
            "Sentiment140 Config: x=20, y=15, sigma=0.5, lr=0.1 → QE=0.8936\n",
            "Sentiment140 Config: x=20, y=15, sigma=0.5, lr=0.5 → QE=0.9033\n",
            "Sentiment140 Config: x=20, y=15, sigma=1.0, lr=0.1 → QE=0.8885\n",
            "Sentiment140 Config: x=20, y=15, sigma=1.0, lr=0.5 → QE=0.8808\n",
            "Sentiment140 Config: x=20, y=20, sigma=0.5, lr=0.1 → QE=0.8780\n",
            "Sentiment140 Config: x=20, y=20, sigma=0.5, lr=0.5 → QE=0.8725\n",
            "Sentiment140 Config: x=20, y=20, sigma=1.0, lr=0.1 → QE=0.8749\n",
            "Sentiment140 Config: x=20, y=20, sigma=1.0, lr=0.5 → QE=0.8655\n",
            "✅ Best config for Sentiment140: {'x': 20, 'y': 20, 'sigma': 1.0, 'lr': 0.5, 'iterations': 1000}\n",
            "✅ Lowest QE for Sentiment140: 0.8655\n",
            "\n",
            "🔍 Starting hyperparameter tuning for FordA...\n",
            "FordA Config: x=10, y=10, sigma=0.5, lr=0.1 → QE=2.7753\n",
            "FordA Config: x=10, y=10, sigma=0.5, lr=0.5 → QE=2.7392\n",
            "FordA Config: x=10, y=10, sigma=1.0, lr=0.1 → QE=2.7357\n",
            "FordA Config: x=10, y=10, sigma=1.0, lr=0.5 → QE=2.6962\n",
            "FordA Config: x=10, y=15, sigma=0.5, lr=0.1 → QE=2.7239\n",
            "FordA Config: x=10, y=15, sigma=0.5, lr=0.5 → QE=2.6960\n",
            "FordA Config: x=10, y=15, sigma=1.0, lr=0.1 → QE=2.6863\n",
            "FordA Config: x=10, y=15, sigma=1.0, lr=0.5 → QE=2.6448\n",
            "FordA Config: x=10, y=20, sigma=0.5, lr=0.1 → QE=2.7119\n",
            "FordA Config: x=10, y=20, sigma=0.5, lr=0.5 → QE=2.6646\n",
            "FordA Config: x=10, y=20, sigma=1.0, lr=0.1 → QE=2.6565\n",
            "FordA Config: x=10, y=20, sigma=1.0, lr=0.5 → QE=2.6155\n",
            "FordA Config: x=15, y=10, sigma=0.5, lr=0.1 → QE=2.7518\n",
            "FordA Config: x=15, y=10, sigma=0.5, lr=0.5 → QE=2.6963\n",
            "FordA Config: x=15, y=10, sigma=1.0, lr=0.1 → QE=2.6741\n",
            "FordA Config: x=15, y=10, sigma=1.0, lr=0.5 → QE=2.6461\n",
            "FordA Config: x=15, y=15, sigma=0.5, lr=0.1 → QE=2.7030\n",
            "FordA Config: x=15, y=15, sigma=0.5, lr=0.5 → QE=2.6380\n",
            "FordA Config: x=15, y=15, sigma=1.0, lr=0.1 → QE=2.6327\n",
            "FordA Config: x=15, y=15, sigma=1.0, lr=0.5 → QE=2.6009\n",
            "FordA Config: x=15, y=20, sigma=0.5, lr=0.1 → QE=2.6510\n",
            "FordA Config: x=15, y=20, sigma=0.5, lr=0.5 → QE=2.5876\n",
            "FordA Config: x=15, y=20, sigma=1.0, lr=0.1 → QE=2.5989\n",
            "FordA Config: x=15, y=20, sigma=1.0, lr=0.5 → QE=2.5692\n",
            "FordA Config: x=20, y=10, sigma=0.5, lr=0.1 → QE=2.7125\n",
            "FordA Config: x=20, y=10, sigma=0.5, lr=0.5 → QE=2.6418\n",
            "FordA Config: x=20, y=10, sigma=1.0, lr=0.1 → QE=2.6505\n",
            "FordA Config: x=20, y=10, sigma=1.0, lr=0.5 → QE=2.6153\n",
            "FordA Config: x=20, y=15, sigma=0.5, lr=0.1 → QE=2.6468\n",
            "FordA Config: x=20, y=15, sigma=0.5, lr=0.5 → QE=2.5868\n",
            "FordA Config: x=20, y=15, sigma=1.0, lr=0.1 → QE=2.5952\n",
            "FordA Config: x=20, y=15, sigma=1.0, lr=0.5 → QE=2.5679\n",
            "FordA Config: x=20, y=20, sigma=0.5, lr=0.1 → QE=2.5920\n",
            "FordA Config: x=20, y=20, sigma=0.5, lr=0.5 → QE=2.5247\n",
            "FordA Config: x=20, y=20, sigma=1.0, lr=0.1 → QE=2.5293\n",
            "FordA Config: x=20, y=20, sigma=1.0, lr=0.5 → QE=2.5240\n",
            "✅ Best config for FordA: {'x': 20, 'y': 20, 'sigma': 1.0, 'lr': 0.5, 'iterations': 1000}\n",
            "✅ Lowest QE for FordA: 2.5240\n"
          ]
        }
      ],
      "source": [
        "def evaluate_som(data, som_x, som_y, sigma, lr, iterations):\n",
        "    som = MiniSom(x=som_x, y=som_y, input_len=data.shape[1], sigma=sigma, learning_rate=lr)\n",
        "    som.random_weights_init(data)\n",
        "    som.train_random(data, iterations)\n",
        "    qe = som.quantization_error(data)\n",
        "    return qe, som\n",
        "\n",
        "grid_params = {\n",
        "    'som_x': [10, 15, 20],\n",
        "    'som_y': [10, 15, 20],\n",
        "    'sigma': [0.5, 1.0],\n",
        "    'lr': [0.1, 0.5],\n",
        "    'iterations': [1000]  # Bisa ditambah jika ingin eksplorasi lebih dalam\n",
        "}\n",
        "\n",
        "datasets = {\n",
        "    \"BBC\": X_bbc_tfidf,\n",
        "    \"Sentiment140\": X_sent_sampled,\n",
        "    \"FordA\": X_forda_scaled\n",
        "}\n",
        "\n",
        "best_results = {}\n",
        "\n",
        "for name, data in datasets.items():\n",
        "    print(f\"\\n🔍 Starting hyperparameter tuning for {name}...\")\n",
        "    best_qe = float('inf')\n",
        "    best_som = None\n",
        "    best_config = {}\n",
        "\n",
        "    for x in grid_params['som_x']:\n",
        "        for y in grid_params['som_y']:\n",
        "            for sigma in grid_params['sigma']:\n",
        "                for lr in grid_params['lr']:\n",
        "                    for iters in grid_params['iterations']:\n",
        "                        qe, som = evaluate_som(data, x, y, sigma, lr, iters)\n",
        "                        print(f\"{name} Config: x={x}, y={y}, sigma={sigma}, lr={lr} → QE={qe:.4f}\")\n",
        "                        if qe < best_qe:\n",
        "                            best_qe = qe\n",
        "                            best_som = som\n",
        "                            best_config = {\n",
        "                                'x': x, 'y': y,\n",
        "                                'sigma': sigma, 'lr': lr,\n",
        "                                'iterations': iters\n",
        "                            }\n",
        "\n",
        "    best_results[name] = {\n",
        "        'qe': best_qe,\n",
        "        'som': best_som,\n",
        "        'config': best_config\n",
        "    }\n",
        "\n",
        "    print(f\"✅ Best config for {name}: {best_config}\")\n",
        "    print(f\"✅ Lowest QE for {name}: {best_qe:.4f}\")\n",
        "\n",
        "# === Output SOM terbaik dari tuning ===\n",
        "som_bbc = best_results[\"BBC\"]['som']\n",
        "som_sent = best_results[\"Sentiment140\"]['som']\n",
        "som_forda = best_results[\"FordA\"]['som']\n"
      ]
    },
    {
      "cell_type": "markdown",
      "metadata": {
        "id": "7E5-luZRkH5u"
      },
      "source": [
        "# **Tahap 5 – Evaluasi dan Visualisasi Hasil Clustering**  \n",
        "Pada tahap ini dilakukan evaluasi performa model SOM yang telah dilatih, serta visualisasi hasil clustering untuk memahami pola pengelompokan data.\n",
        "\n",
        "- **Evaluasi Model:**\n",
        "  - Model SOM terbaik untuk setiap dataset dievaluasi menggunakan dua metrik utama:\n",
        "    - **Quantization Error (QE):** Mengukur seberapa baik SOM merepresentasikan data. Nilai QE yang lebih kecil menandakan representasi yang lebih baik.\n",
        "    - **Topographic Error (TE):** Mengukur seberapa baik SOM menjaga kedekatan topologi data asli pada peta SOM. Semakin kecil TE, semakin baik struktur peta SOM.\n",
        "  - Fungsi evaluasi akan menghitung kedua metrik ini untuk setiap dataset, lalu menampilkan hasilnya dalam bentuk tabel.\n",
        "\n",
        "- **Visualisasi U-Matrix:**\n",
        "  - U-Matrix (Unified Distance Matrix) divisualisasikan untuk setiap SOM terbaik. U-Matrix menampilkan jarak antar neuron pada peta SOM, sehingga pola klastering dan pemisahan antar cluster dapat diamati secara visual.\n",
        "  - Visualisasi ini membantu memahami distribusi data dan kualitas pemetaan SOM.\n",
        "\n",
        "> **Kesimpulan:**\n",
        "> Tahap ini bertujuan untuk menilai performa model SOM secara kuantitatif dan kualitatif, serta memberikan gambaran visual mengenai hasil klastering yang dihasilkan oleh SOM pada masing-masing dataset.\n"
      ]
    },
    {
      "cell_type": "code",
      "execution_count": 5,
      "metadata": {
        "colab": {
          "base_uri": "https://localhost:8080/"
        },
        "id": "LaRzkxwQkH5v",
        "outputId": "c6cbc202-e45d-4828-87dc-aaeaf38bc70c"
      },
      "outputs": [
        {
          "output_type": "stream",
          "name": "stdout",
          "text": [
            "=== Evaluation Results ===\n",
            "BBC           | QE = 0.7667 | Topographic Error = 0.9533\n",
            "Sentiment140  | QE = 0.8655 | Topographic Error = 0.8044\n",
            "FordA         | QE = 2.5240 | Topographic Error = 0.8084\n",
            "\n",
            "=== Best Performing Datasets ===\n",
            "Best by Quantization Error      : BBC (QE = 0.7667)\n",
            "Best by Topographic Error (TE)  : Sentiment140 (TE = 0.8044)\n"
          ]
        }
      ],
      "source": [
        "# === Fungsi Hitung Topographic Error ===\n",
        "def topographic_error(som, data):\n",
        "    error_count = 0\n",
        "    weights = som.get_weights()\n",
        "    x_max, y_max = weights.shape[0], weights.shape[1]\n",
        "    for x in data:\n",
        "        dists = np.linalg.norm(weights - x, axis=2)\n",
        "        bmu1_idx = np.unravel_index(np.argmin(dists), dists.shape)\n",
        "        dists[bmu1_idx] = np.inf\n",
        "        bmu2_idx = np.unravel_index(np.argmin(dists), dists.shape)\n",
        "\n",
        "        # Cek apakah bmu2 adalah tetangga bmu1 (4-neighborhood)\n",
        "        neighbors = []\n",
        "        for dx, dy in [(-1,0), (1,0), (0,-1), (0,1)]:\n",
        "            nx, ny = bmu1_idx[0] + dx, bmu1_idx[1] + dy\n",
        "            if 0 <= nx < x_max and 0 <= ny < y_max:\n",
        "                neighbors.append((nx, ny))\n",
        "        if bmu2_idx not in neighbors:\n",
        "            error_count += 1\n",
        "    return error_count / len(data)\n",
        "\n",
        "# === Fungsi Ambil Cluster Labels (masih dipakai untuk konsistensi) ===\n",
        "def get_cluster_labels(som, data):\n",
        "    coords = [som.winner(x) for x in data]\n",
        "    label_ids = [c[0] * som._weights.shape[1] + c[1] for c in coords]\n",
        "    return np.array(label_ids)\n",
        "\n",
        "# === Fungsi Evaluasi yang dimodifikasi untuk QE + TE ===\n",
        "def evaluate_som_model(name, som, data):\n",
        "    qe = som.quantization_error(data)\n",
        "    te = topographic_error(som, data)\n",
        "    return {\"name\": name, \"qe\": qe, \"te\": te}\n",
        "\n",
        "# === Evaluasi Semua Dataset ===\n",
        "results = [\n",
        "    evaluate_som_model(\"BBC\", som_bbc, X_bbc_tfidf),\n",
        "    evaluate_som_model(\"Sentiment140\", som_sent, X_sent_sampled),\n",
        "    evaluate_som_model(\"FordA\", som_forda, X_forda_scaled)\n",
        "]\n",
        "\n",
        "# === Print tabel hasil ===\n",
        "print(\"=== Evaluation Results ===\")\n",
        "for r in results:\n",
        "    print(f\"{r['name']:<13} | QE = {r['qe']:.4f} | Topographic Error = {r['te']:.4f}\")\n",
        "\n",
        "# === Menentukan yang terbaik ===\n",
        "best_qe = min(results, key=lambda r: r['qe'])\n",
        "best_te = min(results, key=lambda r: r['te'])\n",
        "\n",
        "print(\"\\n=== Best Performing Datasets ===\")\n",
        "print(f\"Best by Quantization Error      : {best_qe['name']} (QE = {best_qe['qe']:.4f})\")\n",
        "print(f\"Best by Topographic Error (TE)  : {best_te['name']} (TE = {best_te['te']:.4f})\")\n"
      ]
    },
    {
      "cell_type": "code",
      "execution_count": 6,
      "metadata": {
        "colab": {
          "base_uri": "https://localhost:8080/",
          "height": 1000
        },
        "id": "Hs8sJLcq9WqA",
        "outputId": "c8dce30b-7453-4a64-ad37-8f718566aa1c"
      },
      "outputs": [
        {
          "output_type": "display_data",
          "data": {
            "text/plain": [
              "<Figure size 800x800 with 2 Axes>"
            ],
            "image/png": "[encoded data removed]"
          },
          "metadata": {}
        },
        {
          "output_type": "display_data",
          "data": {
            "text/plain": [
              "<Figure size 800x800 with 2 Axes>"
            ],
            "image/png": "[encoded data removed]"
          },
          "metadata": {}
        },
        {
          "output_type": "display_data",
          "data": {
            "text/plain": [
              "<Figure size 800x800 with 2 Axes>"
            ],
            "image/png": "[encoded data removed]"
          },
          "metadata": {}
        }
      ],
      "source": [
        "def plot_umatrix(som, title):\n",
        "    \"\"\"\n",
        "    Visualisasi U-Matrix dari SOM\n",
        "    \"\"\"\n",
        "    umatrix = som.distance_map().T  # transpose supaya orientasi benar\n",
        "    plt.figure(figsize=(8, 8))\n",
        "    plt.title(f\"U-Matrix Visualization - {title}\", fontsize=16)\n",
        "    plt.pcolor(umatrix, cmap='viridis')  # pcolor untuk jarak antar neuron\n",
        "    plt.colorbar(label='Distance')\n",
        "    plt.show()\n",
        "\n",
        "# Visualisasi SOM terbaik dari hasil tuning\n",
        "plot_umatrix(som_bbc, \"BBC (Best SOM)\")\n",
        "plot_umatrix(som_sent, \"Sentiment140 (Best SOM)\")\n",
        "plot_umatrix(som_forda, \"FordA (Best SOM)\")\n"
      ]
    },
    {
      "cell_type": "code",
      "execution_count": 8,
      "metadata": {
        "colab": {
          "base_uri": "https://localhost:8080/"
        },
        "id": "V2-2PnVSdRu1",
        "outputId": "cc7acee7-b8d6-43d5-be14-c066bb0bb7f8"
      },
      "outputs": [
        {
          "output_type": "stream",
          "name": "stdout",
          "text": [
            "=== Estimated Number of Clusters (Activated Neurons) ===\n",
            "BBC           : 380 clusters\n",
            "Sentiment140  : 400 clusters\n",
            "FordA         : 400 clusters\n"
          ]
        }
      ],
      "source": [
        "def count_active_neurons(som, data):\n",
        "    \"\"\"\n",
        "    Menghitung jumlah neuron aktif (yang menjadi winner untuk minimal 1 data point)\n",
        "    \"\"\"\n",
        "    winners = [som.winner(x) for x in data]\n",
        "    unique_winners = set(winners)\n",
        "    return len(unique_winners)\n",
        "\n",
        "# Hitung cluster (neuron aktif) per dataset\n",
        "bbc_clusters = count_active_neurons(som_bbc, X_bbc_tfidf)\n",
        "sent_clusters = count_active_neurons(som_sent, X_sent_sampled)\n",
        "forda_clusters = count_active_neurons(som_forda, X_forda_scaled)\n",
        "\n",
        "# Tampilkan hasil\n",
        "print(\"=== Estimated Number of Clusters (Activated Neurons) ===\")\n",
        "print(f\"BBC           : {bbc_clusters} clusters\")\n",
        "print(f\"Sentiment140  : {sent_clusters} clusters\")\n",
        "print(f\"FordA         : {forda_clusters} clusters\")"
      ]
    },
    {
      "cell_type": "markdown",
      "metadata": {
        "id": "OBSlqL638opJ"
      },
      "source": [
        "# Evaluasi Self-Organizing Map (SOM) pada Dataset BBC, Sentiment140, dan FordA\n",
        "\n",
        "---\n",
        "\n",
        "## Hasil Evaluasi\n",
        "\n",
        "| Dataset         | Quantization Error (QE) | Topographic Error (TE)   |\n",
        "|-----------------|--------------------------|---------------------------|\n",
        "| **BBC**         | 0.7667                   | 0.9533                    |\n",
        "| **Sentiment140**| 0.8655                   | 0.8044                    |\n",
        "| **FordA**       | 2.5240                   | 0.8084                    |\n",
        "\n",
        "---\n",
        "\n",
        "## Apa itu QE dan TE?\n",
        "\n",
        "- **Quantization Error (QE)**  \n",
        "  Mengukur rata-rata jarak antara data asli dengan neuron pemenang pada SOM.  \n",
        "  Nilai QE yang lebih rendah berarti representasi data yang lebih akurat.\n",
        "\n",
        "- **Topographic Error (TE)**  \n",
        "  Mengukur seberapa baik SOM menjaga struktur topologi data asli.  \n",
        "  Nilai TE yang lebih rendah menandakan peta yang lebih rapi dan konsisten secara topologi.\n",
        "\n",
        "---\n",
        "\n",
        "## Interpretasi Hasil\n",
        "\n",
        "- Dataset **BBC** memiliki QE terendah, yang berarti model SOM-nya paling akurat dalam merepresentasikan data.\n",
        "- Dataset **Sentiment140** memiliki TE terendah, menunjukkan performa terbaik dalam menjaga struktur topologi data.\n",
        "- Nilai TE pada semua dataset masih tergolong tinggi (>0.8), menandakan adanya ruang untuk perbaikan dalam pelestarian topologi.\n",
        "\n",
        "---\n",
        "\n",
        "## Dataset dengan Performa Terbaik\n",
        "\n",
        "- **Quantization Error (QE) terbaik**: **BBC** (QE = 0.7667)  \n",
        "- **Topographic Error (TE) terbaik**: **Sentiment140** (TE = 0.8044)\n",
        "\n",
        "---\n",
        "\n",
        "## Kesimpulan\n",
        "\n",
        "- SOM memberikan representasi data yang cukup baik, terutama pada dataset **BBC** dari sisi akurasi.\n",
        "- Untuk pemeliharaan topologi, dataset **Sentiment140** menunjukkan hasil yang lebih baik dibanding yang lain.\n"
      ]
    },
    {
      "cell_type": "markdown",
      "metadata": {
        "id": "H0QmGoMskH5w"
      },
      "source": [
        "# **Tahap 6 – Analisis dan Diskusi**\n",
        "\n",
        "Pada tahap ini dilakukan analisis dan diskusi terhadap hasil evaluasi dan visualisasi model SOM pada ketiga dataset. Pembahasan meliputi:\n",
        "\n",
        "---\n",
        "\n",
        "## **Analisis Kinerja SOM**\n",
        "\n",
        "- Dataset **BBC** menunjukkan nilai **Quantization Error (QE)** terendah (**QE = 0.7667**), menandakan representasi data yang paling akurat oleh SOM.\n",
        "- Dataset **Sentiment140** memiliki nilai **Topographic Error (TE)** terendah (**TE = 0.8044**), menunjukkan bahwa model paling baik dalam menjaga struktur topologi data.\n",
        "- Meskipun begitu, nilai **TE pada semua dataset masih cukup tinggi (>0.8)**, sehingga pemetaan topologi belum optimal dan masih bisa ditingkatkan.\n",
        "\n",
        "---\n",
        "\n",
        "## **Faktor yang Mempengaruhi Hasil**\n",
        "\n",
        "- **Kualitas preprocessing** seperti pembersihan teks, normalisasi, dan representasi fitur (TF-IDF, embeddings) sangat memengaruhi hasil klastering SOM.\n",
        "- **Pemilihan dan tuning hyperparameter** seperti ukuran grid, nilai sigma, dan learning rate berperan besar dalam performa akhir model.\n",
        "- **Karakteristik data**, apakah data teks (BBC, Sentiment140) atau time-series (FordA), memengaruhi tingkat kesulitan dalam menemukan pola klaster.\n",
        "\n",
        "---\n",
        "\n",
        "## **Kekuatan dan Keterbatasan SOM**\n",
        "\n",
        "### Kekuatan:\n",
        "- Mampu memvisualisasikan dan mengelompokkan data berdimensi tinggi secara **intuitif**.  \n",
        "  > *Maksud dari “intuitif” di sini adalah hasil klaster dapat divisualisasikan dalam bentuk dua dimensi (misalnya sebagai peta berwarna atau grid), sehingga pola atau kelompok data yang mirip bisa langsung terlihat oleh mata manusia tanpa perlu analisis statistik yang rumit.*\n",
        "- Dapat digunakan untuk eksplorasi data tanpa label (unsupervised learning) dan deteksi pola tersembunyi.\n",
        "\n",
        "### Keterbatasan:\n",
        "- Sensitif terhadap parameter dan skala data input.\n",
        "- Pada data dengan struktur kompleks, SOM dapat kesulitan menjaga struktur topologi secara akurat.\n",
        "- Proses tuning parameter dapat memakan waktu, terutama pada dataset yang besar.\n",
        "\n",
        "---\n",
        "\n",
        "> **Kesimpulan:**  \n",
        "> Analisis ini menyoroti pentingnya **preprocessing yang baik**, **tuning parameter yang cermat**, dan **pemilihan metode yang sesuai dengan jenis data** agar hasil klastering menggunakan SOM menjadi optimal dan interpretatif.\n"
      ]
    },
    {
      "cell_type": "code",
      "execution_count": null,
      "metadata": {
        "id": "x8nFe3imkH5w"
      },
      "outputs": [],
      "source": []
    }
  ],
  "metadata": {
    "accelerator": "GPU",
    "colab": {
      "gpuType": "T4",
      "provenance": []
    },
    "kernelspec": {
      "display_name": "Python 3",
      "name": "python3"
    },
    "language_info": {
      "codemirror_mode": {
        "name": "ipython",
        "version": 3
      },
      "file_extension": ".py",
      "mimetype": "text/x-python",
      "name": "python",
      "nbconvert_exporter": "python",
      "pygments_lexer": "ipython3",
      "version": "3.11.0"
    }
  },
  "nbformat": 4,
  "nbformat_minor": 0
}