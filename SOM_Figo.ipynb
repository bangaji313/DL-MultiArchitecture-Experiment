{
 "cells": [
  {
   "cell_type": "markdown",
   "metadata": {
    "id": "lr88LZRIkH5b"
   },
   "source": [
    "# **IMPLEMENTASI DAN EKSPERIMEN ALGORITMA SELF ORGANIZING MAP (SOM) UNTUK KLASTERING DAN KLASIFIKASI PADA TIGA DATASET**\n",
    "\n",
    "Nama  : Muhammad Figo Razzan Fadillah\n",
    "\n",
    "NRP   : 152022064\n",
    "\n",
    "Kelas : IFB-454 DEEP LEARNING  \n",
    "\n",
    "## Konteks Proyek Kelompok:\n",
    "Notebook ini merupakan bagian dari proyek kelompok dengan tiga anggota yang masing-masing menguji arsitektur deep learning berbeda. Fokus notebook ini adalah implementasi dan evaluasi algoritma SOM pada tiga dataset yang sama.\n",
    "\n",
    "## Tujuan Eksperimen:\n",
    "Menguji dan mencari konfigurasi terbaik dari algoritma SOM untuk klastering pada ketiga dataset. Menganalisis faktor yang berkontribusi pada performa terbaik tiap dataset.\n",
    "\n",
    "## Dataset yang Digunakan:\n",
    "1. **BBC News**  \n",
    "   - Jenis: Teks (berita)  \n",
    "   - Tujuan: Clustering dokumen berita berdasarkan topik  \n",
    "\n",
    "2. **Sentiment140**  \n",
    "   - Jenis: Teks (tweet)  \n",
    "   - Tujuan: Clustering tweet untuk analisis sentimen dan pola teks  \n",
    "\n",
    "3. **FordA (UCR Time Series Classification Archive)**  \n",
    "   - Jenis: Time Series  \n",
    "   - Tujuan: Clustering pola sinyal time series  \n",
    "\n",
    "## Rencana Implementasi:\n",
    "- Import library yang diperlukan  \n",
    "- Memuat dan eksplorasi dataset  \n",
    "- Preprocessing data sesuai kebutuhan SOM  \n",
    "- Mendefinisikan dan melatih model SOM dengan parameter yang bervariasi  \n",
    "- Evaluasi performa model menggunakan metrik klasifikasi dan klastering  \n",
    "- Visualisasi hasil dan peta SOM  \n",
    "\n",
    "## Output yang Dihasilkan:\n",
    "- Source code implementasi SOM  \n",
    "- Metrik evaluasi dan hasil klastering/klasifikasi  \n",
    "- Penjelasan model dan parameter yang optimal  \n",
    "- Data pendukung untuk laporan kelompok terkait performa arsitektur SOM  \n"
   ]
  },
  {
   "cell_type": "markdown",
   "metadata": {
    "id": "AR9zDzcSkH5i"
   },
   "source": [
    "# **Tahap 1 - Import Semua Library**\n",
    "  Semua library yang dibutuhkan diimpor pada tahap awal untuk menjaga keteraturan kode."
   ]
  },
  {
   "cell_type": "code",
   "execution_count": null,
   "metadata": {
    "colab": {
     "base_uri": "https://localhost:8080/"
    },
    "id": "syT0aIockH5j",
    "outputId": "36b0bb1f-fe9a-41aa-d308-dc52650b8c87"
   },
   "outputs": [
    {
     "name": "stdout",
     "output_type": "stream",
     "text": [
      "Requirement already satisfied: minisom in /usr/local/lib/python3.11/dist-packages (2.3.5)\n",
      "Drive already mounted at /content/drive; to attempt to forcibly remount, call drive.mount(\"/content/drive\", force_remount=True).\n"
     ]
    },
    {
     "name": "stderr",
     "output_type": "stream",
     "text": [
      "[nltk_data] Downloading package punkt_tab to /root/nltk_data...\n",
      "[nltk_data]   Unzipping tokenizers/punkt_tab.zip.\n",
      "[nltk_data] Downloading package stopwords to /root/nltk_data...\n",
      "[nltk_data]   Package stopwords is already up-to-date!\n"
     ]
    },
    {
     "data": {
      "text/plain": [
       "True"
      ]
     },
     "execution_count": 6,
     "metadata": {},
     "output_type": "execute_result"
    }
   ],
   "source": [
    "# === Install Library Tambahan ===\n",
    "!pip install minisom\n",
    "\n",
    "# === Mount Google Drive ===\n",
    "from google.colab import drive\n",
    "drive.mount('/content/drive')\n",
    "\n",
    "# === Data Handling ===\n",
    "import os\n",
    "import pandas as pd\n",
    "import numpy as np\n",
    "\n",
    "# === Text Preprocessing ===\n",
    "import re\n",
    "import string\n",
    "import nltk\n",
    "from nltk.corpus import stopwords\n",
    "from nltk.tokenize import word_tokenize\n",
    "from nltk.stem import PorterStemmer\n",
    "from sklearn.feature_extraction.text import TfidfVectorizer\n",
    "\n",
    "# === Scaling & Machine Learning ===\n",
    "from sklearn.preprocessing import MinMaxScaler, StandardScaler\n",
    "from sklearn.decomposition import PCA\n",
    "from sklearn.utils import shuffle\n",
    "\n",
    "# === SOM ===\n",
    "from minisom import MiniSom\n",
    "\n",
    "# === Visualization ===\n",
    "import matplotlib.pyplot as plt\n",
    "import seaborn as sns\n",
    "\n",
    "# === Warnings ===\n",
    "import warnings\n",
    "warnings.filterwarnings(\"ignore\")\n",
    "\n",
    "# === NLTK Downloads ===\n",
    "nltk.download('punkt_tab')\n",
    "nltk.download('stopwords')\n"
   ]
  },
  {
   "cell_type": "markdown",
   "metadata": {
    "id": "ubvit4qekH5m"
   },
   "source": [
    "# **Tahap 2 – Load Dataset**\n",
    "Pada tahap ini, ketiga dataset yang akan digunakan dimuat ke dalam notebook sesuai format dan struktur masing-masing. Proses pemuatan dilakukan sebagai berikut:\n",
    "\n",
    "- **Tahap 2.1:** Load dataset **BBC News** dari folder per kategori, setiap file teks dibaca dan label diambil dari nama folder kategori. Data disimpan dalam DataFrame dengan kolom `text` dan `label`.\n",
    "- **Tahap 2.2:** Load dataset **FordA** (UCR format) dengan fungsi khusus untuk membaca file .txt, memisahkan label dan data time series, lalu menggabungkan data train dan test menjadi satu array.\n",
    "- **Tahap 2.3:** Load dataset **Sentiment140** dari file CSV, membaca seluruh data tweet dan kolom target, lalu menyimpan ke DataFrame dengan nama kolom yang sesuai.\n",
    "\n",
    "Setelah semua dataset berhasil dimuat, dilakukan eksplorasi awal dengan menampilkan jumlah data dan contoh isi data dari masing-masing dataset."
   ]
  },
  {
   "cell_type": "code",
   "execution_count": null,
   "metadata": {
    "colab": {
     "base_uri": "https://localhost:8080/"
    },
    "id": "vU1Fh5yckH5n",
    "outputId": "80e76c21-fe6f-4fa9-8be5-6bf8279f6889"
   },
   "outputs": [
    {
     "name": "stdout",
     "output_type": "stream",
     "text": [
      "[BBC] Loaded 2225 documents.\n",
      "[FordA] Loaded 4921 samples with 500 time steps.\n",
      "[Sentiment140] Loaded 1600000 tweets.\n",
      "\n",
      "[BBC sample]\n",
      "                                                text label\n",
      "0  Sony PSP tipped as a 'must-have'\\n\\nSony's Pla...  tech\n",
      "\n",
      "[FordA sample]\n",
      "Label: -1\n",
      "Time series: [-0.79717168 -0.66439208 -0.37301463  0.04081512  0.52693599  0.98428794\n",
      "  1.3531202   1.5781078   1.6592509   1.6408093 ] ...\n",
      "\n",
      "[Sentiment140 sample]\n",
      "   target                                               text\n",
      "0       0  @switchfoot http://twitpic.com/2y1zl - Awww, t...\n"
     ]
    }
   ],
   "source": [
    "# === Set root path dari Google Drive ===\n",
    "base_path = '/content/drive/MyDrive/DL-MultiArchitecture-Experiment/dataset/'\n",
    "\n",
    "# === Load BBC News Dataset ===\n",
    "bbc_root_path = os.path.join(base_path, 'BBCNews')\n",
    "bbc_texts = []\n",
    "bbc_labels = []\n",
    "\n",
    "for category in os.listdir(bbc_root_path):\n",
    "    category_path = os.path.join(bbc_root_path, category)\n",
    "    if os.path.isdir(category_path):\n",
    "        for filename in os.listdir(category_path):\n",
    "            if filename.endswith('.txt'):\n",
    "                with open(os.path.join(category_path, filename), 'r', encoding='latin-1') as f:\n",
    "                    content = f.read()\n",
    "                    bbc_texts.append(content)\n",
    "                    bbc_labels.append(category)\n",
    "\n",
    "df_bbc = pd.DataFrame({'text': bbc_texts, 'label': bbc_labels})\n",
    "print(f\"[BBC] Loaded {len(df_bbc)} documents.\")\n",
    "\n",
    "# === Load FordA Dataset (UCR format .txt) ===\n",
    "def load_ucr_ts(file_path):\n",
    "    data = []\n",
    "    labels = []\n",
    "    with open(file_path, 'r') as f:\n",
    "        for line in f:\n",
    "            values = line.strip().split()\n",
    "            labels.append(int(float(values[0])))\n",
    "            ts = list(map(float, values[1:]))\n",
    "            data.append(ts)\n",
    "    return np.array(data), np.array(labels)\n",
    "\n",
    "forda_train_path = os.path.join(base_path, 'FordA/FordA_TRAIN.txt')\n",
    "forda_test_path = os.path.join(base_path, 'FordA/FordA_TEST.txt')\n",
    "\n",
    "X_train_forda, y_train_forda = load_ucr_ts(forda_train_path)\n",
    "X_test_forda, y_test_forda = load_ucr_ts(forda_test_path)\n",
    "\n",
    "X_forda = np.vstack((X_train_forda, X_test_forda))\n",
    "y_forda = np.concatenate((y_train_forda, y_test_forda))\n",
    "print(f\"[FordA] Loaded {X_forda.shape[0]} samples with {X_forda.shape[1]} time steps.\")\n",
    "\n",
    "# === Load Sentiment140 Dataset ===\n",
    "sent140_path = os.path.join(base_path, 'Sentimen140/training.1600000.processed.noemoticon.csv')\n",
    "df_sent = pd.read_csv(sent140_path, encoding='latin-1', header=None)\n",
    "df_sent.columns = ['target', 'id', 'date', 'query', 'user', 'text']\n",
    "print(f\"[Sentiment140] Loaded {len(df_sent)} tweets.\")\n",
    "\n",
    "# Preview sample\n",
    "print(\"\\n[BBC sample]\")\n",
    "print(df_bbc.head(1))\n",
    "\n",
    "print(\"\\n[FordA sample]\")\n",
    "print(\"Label:\", y_forda[0])\n",
    "print(\"Time series:\", X_forda[0][:10], \"...\")\n",
    "\n",
    "print(\"\\n[Sentiment140 sample]\")\n",
    "print(df_sent[['target', 'text']].head(1))\n"
   ]
  },
  {
   "cell_type": "markdown",
   "metadata": {
    "id": "VDRwR437kH5q"
   },
   "source": [
    "# **Tahap 3 – Preprocessing Dataset**  \n",
    "Pada tahap ini, dilakukan preprocessing pada masing-masing dataset agar data siap digunakan untuk pelatihan dan evaluasi model SOM. Setiap dataset diproses sesuai karakteristiknya:  \n",
    "  \n",
    "- **Teks (BBC News & Sentiment140):**  \n",
    "  - Teks dibersihkan menggunakan fungsi `clean_text`. Fungsi ini melakukan beberapa langkah penting:  \n",
    "    - Mengubah semua huruf menjadi lowercase.  \n",
    "    - Menghapus URL (regex `http\\S+|www.\\S+`), sehingga link tidak mengganggu analisis teks.  \n",
    "    - Menghapus mention (@username) dan hashtag (#hashtag) dengan regex `@\\w+|#\\w+`.  \n",
    "    - Menghapus angka (`\\d+`).  \n",
    "    - Menghapus tanda baca menggunakan `string.punctuation`.  \n",
    "    - Tokenisasi kata, lalu menghapus stopwords (kata umum yang tidak bermakna seperti 'the', 'and', dll) dan kata yang panjangnya kurang dari 3 karakter.  \n",
    "    - Hasil akhirnya adalah teks yang lebih bersih dan relevan untuk analisis.  \n",
    "  - Setelah pembersihan, teks diubah menjadi representasi numerik menggunakan **TF-IDF Vectorizer** dengan maksimal 1000 fitur.  \n",
    "  - Untuk dataset Sentiment140, karena jumlah data sangat besar, dilakukan sampling 10.000 data secara acak setelah vektorisasi.  \n",
    "  \n",
    "- **Time Series (FordA):**  \n",
    "  - Data time series dinormalisasi menggunakan **MinMaxScaler** agar setiap fitur berada pada rentang 0-1. Ini penting agar SOM dapat memproses data dengan skala yang seragam.  \n",
    "  \n",
    "Setelah preprocessing, bentuk data hasil (shape) dari setiap dataset ditampilkan untuk memastikan proses berjalan dengan benar.  \n",
    "  \n",
    "> **Kesimpulan:**  \n",
    "> Tahap ini bertujuan untuk membersihkan, menormalisasi, dan mengubah data ke format numerik yang optimal untuk SOM, baik untuk data teks maupun time series. Setiap langkah preprocessing disesuaikan dengan kebutuhan dan karakteristik dataset."
   ]
  },
  {
   "cell_type": "code",
   "execution_count": null,
   "metadata": {
    "colab": {
     "base_uri": "https://localhost:8080/"
    },
    "id": "NZl4-r43kH5r",
    "outputId": "b16a44f9-2524-4b2e-a0e7-05240fee9544"
   },
   "outputs": [
    {
     "name": "stdout",
     "output_type": "stream",
     "text": [
      "[BBC] TF-IDF shape: (2225, 1000)\n",
      "[Sentiment140 - sampled] TF-IDF shape: (10000, 1000)\n",
      "[FordA] Scaled shape: (4921, 500)\n"
     ]
    }
   ],
   "source": [
    "import re\n",
    "import string\n",
    "import numpy as np\n",
    "from sklearn.feature_extraction.text import TfidfVectorizer\n",
    "from sklearn.preprocessing import MinMaxScaler\n",
    "from sklearn.utils import shuffle\n",
    "from nltk.corpus import stopwords\n",
    "from nltk.tokenize import word_tokenize\n",
    "import nltk\n",
    "\n",
    "\n",
    "# Siapkan stopwords\n",
    "stop_words = set(stopwords.words('english'))\n",
    "\n",
    "# === Function: Bersihkan teks ===\n",
    "def clean_text(text):\n",
    "    text = text.lower()\n",
    "    text = re.sub(r'http\\S+|www.\\S+', '', text)\n",
    "    text = re.sub(r'@\\w+|#\\w+', '', text)\n",
    "    text = re.sub(r'\\d+', '', text)\n",
    "    text = text.translate(str.maketrans('', '', string.punctuation))\n",
    "    tokens = word_tokenize(text)\n",
    "    tokens = [word for word in tokens if word not in stop_words and len(word) > 2]\n",
    "    return ' '.join(tokens)\n",
    "\n",
    "# === Preprocessing BBC & Sentiment140 ===\n",
    "df_bbc['clean_text'] = df_bbc['text'].apply(clean_text)\n",
    "df_sent['clean_text'] = df_sent['text'].apply(clean_text)\n",
    "\n",
    "# === Vectorisasi TF-IDF (BBC) ===\n",
    "tfidf_bbc = TfidfVectorizer(max_features=1000)\n",
    "X_bbc_tfidf = tfidf_bbc.fit_transform(df_bbc['clean_text']).toarray()\n",
    "\n",
    "# === Vectorisasi TF-IDF (Sentiment140) - SPARSE + SAMPLING ===\n",
    "tfidf_sent = TfidfVectorizer(max_features=1000)\n",
    "X_sent_sparse = tfidf_sent.fit_transform(df_sent['clean_text'])  # tetap dalam bentuk sparse\n",
    "X_sent_sampled = shuffle(X_sent_sparse, random_state=42)[:10000].toarray().astype('float32')  # sampling & convert\n",
    "\n",
    "# === Normalisasi FordA ===\n",
    "scaler = MinMaxScaler()\n",
    "X_forda_scaled = scaler.fit_transform(X_forda)\n",
    "\n",
    "# === Cek hasil ===\n",
    "print(\"[BBC] TF-IDF shape:\", X_bbc_tfidf.shape)\n",
    "print(\"[Sentiment140 - sampled] TF-IDF shape:\", X_sent_sampled.shape)\n",
    "print(\"[FordA] Scaled shape:\", X_forda_scaled.shape)\n"
   ]
  },
  {
   "cell_type": "markdown",
   "metadata": {
    "id": "PrUL4pa2kH5s"
   },
   "source": [
    "# **Tahap 4 – Implementasi dan Pelatihan SOM**  \n",
    "Pada tahap ini dilakukan implementasi dan pelatihan model Self Organizing Map (SOM) pada ketiga dataset yang telah diproses. Proses ini meliputi:\n",
    "\n",
    "- **Pembuatan Fungsi Evaluasi:**\n",
    "  - Fungsi `evaluate_som` digunakan untuk membuat dan melatih SOM dengan parameter tertentu, lalu menghitung quantization error (QE) sebagai metrik evaluasi kualitas klastering.\n",
    "\n",
    "- **Hyperparameter Tuning:**\n",
    "  - Dilakukan pencarian kombinasi parameter terbaik (hyperparameter tuning) menggunakan grid search pada parameter berikut:\n",
    "    - Ukuran grid SOM (`som_x`, `som_y`): menentukan dimensi peta SOM.\n",
    "    - `sigma`: parameter lebar fungsi Gaussian untuk pembaruan bobot.\n",
    "    - `learning_rate` (`lr`): kecepatan pembelajaran SOM.\n",
    "    - `iterations`: jumlah iterasi pelatihan.\n",
    "  - Setiap kombinasi parameter diuji pada masing-masing dataset, dan hasilnya dievaluasi menggunakan quantization error (QE). Semakin kecil QE, semakin baik representasi data oleh SOM.\n",
    "\n",
    "- **Proses Tuning:**\n",
    "  - Untuk setiap dataset (BBC, Sentiment140, FordA), dilakukan pelatihan SOM dengan berbagai kombinasi parameter.\n",
    "  - Konfigurasi dengan nilai QE terendah dipilih sebagai model terbaik untuk dataset tersebut.\n",
    "\n",
    "- **Output:**\n",
    "  - Model SOM terbaik untuk masing-masing dataset disimpan untuk tahap evaluasi dan visualisasi selanjutnya.\n",
    "\n",
    "> **Kesimpulan:**\n",
    "> Tahap ini bertujuan untuk mencari konfigurasi parameter SOM yang optimal melalui hyperparameter tuning, sehingga model dapat melakukan klastering data dengan hasil terbaik sesuai karakteristik masing-masing dataset."
   ]
  },
  {
   "cell_type": "code",
   "execution_count": null,
   "metadata": {
    "colab": {
     "base_uri": "https://localhost:8080/"
    },
    "id": "1Och_1LgkH5t",
    "outputId": "5aff3f19-423a-495d-83cd-37c859fabf59"
   },
   "outputs": [
    {
     "name": "stdout",
     "output_type": "stream",
     "text": [
      "\n",
      "🔍 Starting hyperparameter tuning for BBC...\n",
      "BBC Config: x=10, y=10, sigma=0.5, lr=0.1 → QE=0.9160\n",
      "BBC Config: x=10, y=10, sigma=0.5, lr=0.5 → QE=0.9202\n",
      "BBC Config: x=10, y=10, sigma=1.0, lr=0.1 → QE=0.8966\n",
      "BBC Config: x=10, y=10, sigma=1.0, lr=0.5 → QE=0.9034\n",
      "BBC Config: x=10, y=15, sigma=0.5, lr=0.1 → QE=0.8911\n",
      "BBC Config: x=10, y=15, sigma=0.5, lr=0.5 → QE=0.8863\n",
      "BBC Config: x=10, y=15, sigma=1.0, lr=0.1 → QE=0.8752\n",
      "BBC Config: x=10, y=15, sigma=1.0, lr=0.5 → QE=0.8859\n",
      "BBC Config: x=10, y=20, sigma=0.5, lr=0.1 → QE=0.8659\n",
      "BBC Config: x=10, y=20, sigma=0.5, lr=0.5 → QE=0.8538\n",
      "BBC Config: x=10, y=20, sigma=1.0, lr=0.1 → QE=0.8539\n",
      "BBC Config: x=10, y=20, sigma=1.0, lr=0.5 → QE=0.8588\n",
      "BBC Config: x=15, y=10, sigma=0.5, lr=0.1 → QE=0.8875\n",
      "BBC Config: x=15, y=10, sigma=0.5, lr=0.5 → QE=0.8896\n",
      "BBC Config: x=15, y=10, sigma=1.0, lr=0.1 → QE=0.8737\n",
      "BBC Config: x=15, y=10, sigma=1.0, lr=0.5 → QE=0.8814\n",
      "BBC Config: x=15, y=15, sigma=0.5, lr=0.1 → QE=0.8543\n",
      "BBC Config: x=15, y=15, sigma=0.5, lr=0.5 → QE=0.8465\n",
      "BBC Config: x=15, y=15, sigma=1.0, lr=0.1 → QE=0.8465\n",
      "BBC Config: x=15, y=15, sigma=1.0, lr=0.5 → QE=0.8487\n",
      "BBC Config: x=15, y=20, sigma=0.5, lr=0.1 → QE=0.8216\n",
      "BBC Config: x=15, y=20, sigma=0.5, lr=0.5 → QE=0.8125\n",
      "BBC Config: x=15, y=20, sigma=1.0, lr=0.1 → QE=0.8057\n",
      "BBC Config: x=15, y=20, sigma=1.0, lr=0.5 → QE=0.8257\n",
      "BBC Config: x=20, y=10, sigma=0.5, lr=0.1 → QE=0.8608\n",
      "BBC Config: x=20, y=10, sigma=0.5, lr=0.5 → QE=0.8628\n",
      "BBC Config: x=20, y=10, sigma=1.0, lr=0.1 → QE=0.8519\n",
      "BBC Config: x=20, y=10, sigma=1.0, lr=0.5 → QE=0.8583\n",
      "BBC Config: x=20, y=15, sigma=0.5, lr=0.1 → QE=0.8208\n",
      "BBC Config: x=20, y=15, sigma=0.5, lr=0.5 → QE=0.8224\n",
      "BBC Config: x=20, y=15, sigma=1.0, lr=0.1 → QE=0.8164\n",
      "BBC Config: x=20, y=15, sigma=1.0, lr=0.5 → QE=0.8205\n",
      "BBC Config: x=20, y=20, sigma=0.5, lr=0.1 → QE=0.7756\n",
      "BBC Config: x=20, y=20, sigma=0.5, lr=0.5 → QE=0.7616\n",
      "BBC Config: x=20, y=20, sigma=1.0, lr=0.1 → QE=0.7798\n",
      "BBC Config: x=20, y=20, sigma=1.0, lr=0.5 → QE=0.7918\n",
      "✅ Best config for BBC: {'x': 20, 'y': 20, 'sigma': 0.5, 'lr': 0.5, 'iterations': 1000}\n",
      "✅ Lowest QE for BBC: 0.7616\n",
      "\n",
      "🔍 Starting hyperparameter tuning for Sentiment140...\n",
      "Sentiment140 Config: x=10, y=10, sigma=0.5, lr=0.1 → QE=0.9412\n",
      "Sentiment140 Config: x=10, y=10, sigma=0.5, lr=0.5 → QE=0.9470\n",
      "Sentiment140 Config: x=10, y=10, sigma=1.0, lr=0.1 → QE=0.9162\n",
      "Sentiment140 Config: x=10, y=10, sigma=1.0, lr=0.5 → QE=0.9225\n",
      "Sentiment140 Config: x=10, y=15, sigma=0.5, lr=0.1 → QE=0.9331\n",
      "Sentiment140 Config: x=10, y=15, sigma=0.5, lr=0.5 → QE=0.9272\n",
      "Sentiment140 Config: x=10, y=15, sigma=1.0, lr=0.1 → QE=0.9149\n",
      "Sentiment140 Config: x=10, y=15, sigma=1.0, lr=0.5 → QE=0.9037\n",
      "Sentiment140 Config: x=10, y=20, sigma=0.5, lr=0.1 → QE=0.9150\n",
      "Sentiment140 Config: x=10, y=20, sigma=0.5, lr=0.5 → QE=0.9235\n",
      "Sentiment140 Config: x=10, y=20, sigma=1.0, lr=0.1 → QE=0.8965\n",
      "Sentiment140 Config: x=10, y=20, sigma=1.0, lr=0.5 → QE=0.8939\n",
      "Sentiment140 Config: x=15, y=10, sigma=0.5, lr=0.1 → QE=0.9193\n",
      "Sentiment140 Config: x=15, y=10, sigma=0.5, lr=0.5 → QE=0.9317\n",
      "Sentiment140 Config: x=15, y=10, sigma=1.0, lr=0.1 → QE=0.9163\n",
      "Sentiment140 Config: x=15, y=10, sigma=1.0, lr=0.5 → QE=0.9082\n",
      "Sentiment140 Config: x=15, y=15, sigma=0.5, lr=0.1 → QE=0.9082\n",
      "Sentiment140 Config: x=15, y=15, sigma=0.5, lr=0.5 → QE=0.9188\n",
      "Sentiment140 Config: x=15, y=15, sigma=1.0, lr=0.1 → QE=0.8969\n",
      "Sentiment140 Config: x=15, y=15, sigma=1.0, lr=0.5 → QE=0.8893\n",
      "Sentiment140 Config: x=15, y=20, sigma=0.5, lr=0.1 → QE=0.8869\n",
      "Sentiment140 Config: x=15, y=20, sigma=0.5, lr=0.5 → QE=0.8954\n",
      "Sentiment140 Config: x=15, y=20, sigma=1.0, lr=0.1 → QE=0.8790\n",
      "Sentiment140 Config: x=15, y=20, sigma=1.0, lr=0.5 → QE=0.8821\n",
      "Sentiment140 Config: x=20, y=10, sigma=0.5, lr=0.1 → QE=0.9142\n",
      "Sentiment140 Config: x=20, y=10, sigma=0.5, lr=0.5 → QE=0.9213\n",
      "Sentiment140 Config: x=20, y=10, sigma=1.0, lr=0.1 → QE=0.9003\n",
      "Sentiment140 Config: x=20, y=10, sigma=1.0, lr=0.5 → QE=0.8972\n",
      "Sentiment140 Config: x=20, y=15, sigma=0.5, lr=0.1 → QE=0.8949\n",
      "Sentiment140 Config: x=20, y=15, sigma=0.5, lr=0.5 → QE=0.9002\n",
      "Sentiment140 Config: x=20, y=15, sigma=1.0, lr=0.1 → QE=0.8914\n",
      "Sentiment140 Config: x=20, y=15, sigma=1.0, lr=0.5 → QE=0.8745\n",
      "Sentiment140 Config: x=20, y=20, sigma=0.5, lr=0.1 → QE=0.8791\n",
      "Sentiment140 Config: x=20, y=20, sigma=0.5, lr=0.5 → QE=0.8851\n",
      "Sentiment140 Config: x=20, y=20, sigma=1.0, lr=0.1 → QE=0.8680\n",
      "Sentiment140 Config: x=20, y=20, sigma=1.0, lr=0.5 → QE=0.8694\n",
      "✅ Best config for Sentiment140: {'x': 20, 'y': 20, 'sigma': 1.0, 'lr': 0.1, 'iterations': 1000}\n",
      "✅ Lowest QE for Sentiment140: 0.8680\n",
      "\n",
      "🔍 Starting hyperparameter tuning for FordA...\n",
      "FordA Config: x=10, y=10, sigma=0.5, lr=0.1 → QE=2.7742\n",
      "FordA Config: x=10, y=10, sigma=0.5, lr=0.5 → QE=2.7546\n",
      "FordA Config: x=10, y=10, sigma=1.0, lr=0.1 → QE=2.7332\n",
      "FordA Config: x=10, y=10, sigma=1.0, lr=0.5 → QE=2.6907\n",
      "FordA Config: x=10, y=15, sigma=0.5, lr=0.1 → QE=2.7318\n",
      "FordA Config: x=10, y=15, sigma=0.5, lr=0.5 → QE=2.6891\n",
      "FordA Config: x=10, y=15, sigma=1.0, lr=0.1 → QE=2.6874\n",
      "FordA Config: x=10, y=15, sigma=1.0, lr=0.5 → QE=2.6459\n",
      "FordA Config: x=10, y=20, sigma=0.5, lr=0.1 → QE=2.7026\n",
      "FordA Config: x=10, y=20, sigma=0.5, lr=0.5 → QE=2.6551\n",
      "FordA Config: x=10, y=20, sigma=1.0, lr=0.1 → QE=2.6538\n",
      "FordA Config: x=10, y=20, sigma=1.0, lr=0.5 → QE=2.6070\n",
      "FordA Config: x=15, y=10, sigma=0.5, lr=0.1 → QE=2.7481\n",
      "FordA Config: x=15, y=10, sigma=0.5, lr=0.5 → QE=2.6841\n",
      "FordA Config: x=15, y=10, sigma=1.0, lr=0.1 → QE=2.6795\n",
      "FordA Config: x=15, y=10, sigma=1.0, lr=0.5 → QE=2.6419\n",
      "FordA Config: x=15, y=15, sigma=0.5, lr=0.1 → QE=2.6863\n",
      "FordA Config: x=15, y=15, sigma=0.5, lr=0.5 → QE=2.6324\n",
      "FordA Config: x=15, y=15, sigma=1.0, lr=0.1 → QE=2.6452\n",
      "FordA Config: x=15, y=15, sigma=1.0, lr=0.5 → QE=2.6020\n",
      "FordA Config: x=15, y=20, sigma=0.5, lr=0.1 → QE=2.6478\n",
      "FordA Config: x=15, y=20, sigma=0.5, lr=0.5 → QE=2.5892\n",
      "FordA Config: x=15, y=20, sigma=1.0, lr=0.1 → QE=2.5900\n",
      "FordA Config: x=15, y=20, sigma=1.0, lr=0.5 → QE=2.5671\n",
      "FordA Config: x=20, y=10, sigma=0.5, lr=0.1 → QE=2.7095\n",
      "FordA Config: x=20, y=10, sigma=0.5, lr=0.5 → QE=2.6545\n",
      "FordA Config: x=20, y=10, sigma=1.0, lr=0.1 → QE=2.6634\n",
      "FordA Config: x=20, y=10, sigma=1.0, lr=0.5 → QE=2.6155\n",
      "FordA Config: x=20, y=15, sigma=0.5, lr=0.1 → QE=2.6494\n",
      "FordA Config: x=20, y=15, sigma=0.5, lr=0.5 → QE=2.5828\n",
      "FordA Config: x=20, y=15, sigma=1.0, lr=0.1 → QE=2.5946\n",
      "FordA Config: x=20, y=15, sigma=1.0, lr=0.5 → QE=2.5713\n",
      "FordA Config: x=20, y=20, sigma=0.5, lr=0.1 → QE=2.5932\n",
      "FordA Config: x=20, y=20, sigma=0.5, lr=0.5 → QE=2.5329\n",
      "FordA Config: x=20, y=20, sigma=1.0, lr=0.1 → QE=2.5459\n",
      "FordA Config: x=20, y=20, sigma=1.0, lr=0.5 → QE=2.5254\n",
      "✅ Best config for FordA: {'x': 20, 'y': 20, 'sigma': 1.0, 'lr': 0.5, 'iterations': 1000}\n",
      "✅ Lowest QE for FordA: 2.5254\n"
     ]
    }
   ],
   "source": [
    "from minisom import MiniSom\n",
    "import numpy as np\n",
    "\n",
    "def evaluate_som(data, som_x, som_y, sigma, lr, iterations):\n",
    "    som = MiniSom(x=som_x, y=som_y, input_len=data.shape[1], sigma=sigma, learning_rate=lr)\n",
    "    som.random_weights_init(data)\n",
    "    som.train_random(data, iterations)\n",
    "    qe = som.quantization_error(data)\n",
    "    return qe, som\n",
    "\n",
    "grid_params = {\n",
    "    'som_x': [10, 15, 20],\n",
    "    'som_y': [10, 15, 20],\n",
    "    'sigma': [0.5, 1.0],\n",
    "    'lr': [0.1, 0.5],\n",
    "    'iterations': [1000]  # Bisa ditambah jika ingin eksplorasi lebih dalam\n",
    "}\n",
    "\n",
    "datasets = {\n",
    "    \"BBC\": X_bbc_tfidf,\n",
    "    \"Sentiment140\": X_sent_sampled,\n",
    "    \"FordA\": X_forda_scaled\n",
    "}\n",
    "\n",
    "best_results = {}\n",
    "\n",
    "for name, data in datasets.items():\n",
    "    print(f\"\\n🔍 Starting hyperparameter tuning for {name}...\")\n",
    "    best_qe = float('inf')\n",
    "    best_som = None\n",
    "    best_config = {}\n",
    "\n",
    "    for x in grid_params['som_x']:\n",
    "        for y in grid_params['som_y']:\n",
    "            for sigma in grid_params['sigma']:\n",
    "                for lr in grid_params['lr']:\n",
    "                    for iters in grid_params['iterations']:\n",
    "                        qe, som = evaluate_som(data, x, y, sigma, lr, iters)\n",
    "                        print(f\"{name} Config: x={x}, y={y}, sigma={sigma}, lr={lr} → QE={qe:.4f}\")\n",
    "                        if qe < best_qe:\n",
    "                            best_qe = qe\n",
    "                            best_som = som\n",
    "                            best_config = {\n",
    "                                'x': x, 'y': y,\n",
    "                                'sigma': sigma, 'lr': lr,\n",
    "                                'iterations': iters\n",
    "                            }\n",
    "\n",
    "    best_results[name] = {\n",
    "        'qe': best_qe,\n",
    "        'som': best_som,\n",
    "        'config': best_config\n",
    "    }\n",
    "\n",
    "    print(f\"✅ Best config for {name}: {best_config}\")\n",
    "    print(f\"✅ Lowest QE for {name}: {best_qe:.4f}\")\n",
    "\n",
    "# === Output SOM terbaik dari tuning ===\n",
    "som_bbc = best_results[\"BBC\"]['som']\n",
    "som_sent = best_results[\"Sentiment140\"]['som']\n",
    "som_forda = best_results[\"FordA\"]['som']\n"
   ]
  },
  {
   "cell_type": "markdown",
   "metadata": {
    "id": "7E5-luZRkH5u"
   },
   "source": [
    "# **Tahap 5 – Evaluasi dan Visualisasi Hasil Clustering**  \n",
    "Pada tahap ini dilakukan evaluasi performa model SOM yang telah dilatih, serta visualisasi hasil clustering untuk memahami pola pengelompokan data.\n",
    "\n",
    "- **Evaluasi Model:**\n",
    "  - Model SOM terbaik untuk setiap dataset dievaluasi menggunakan dua metrik utama:\n",
    "    - **Quantization Error (QE):** Mengukur seberapa baik SOM merepresentasikan data. Nilai QE yang lebih kecil menandakan representasi yang lebih baik.\n",
    "    - **Topographic Error (TE):** Mengukur seberapa baik SOM menjaga kedekatan topologi data asli pada peta SOM. Semakin kecil TE, semakin baik struktur peta SOM.\n",
    "  - Fungsi evaluasi akan menghitung kedua metrik ini untuk setiap dataset, lalu menampilkan hasilnya dalam bentuk tabel.\n",
    "\n",
    "- **Visualisasi U-Matrix:**\n",
    "  - U-Matrix (Unified Distance Matrix) divisualisasikan untuk setiap SOM terbaik. U-Matrix menampilkan jarak antar neuron pada peta SOM, sehingga pola klastering dan pemisahan antar cluster dapat diamati secara visual.\n",
    "  - Visualisasi ini membantu memahami distribusi data dan kualitas pemetaan SOM.\n",
    "\n",
    "> **Kesimpulan:**\n",
    "> Tahap ini bertujuan untuk menilai performa model SOM secara kuantitatif dan kualitatif, serta memberikan gambaran visual mengenai hasil klastering yang dihasilkan oleh SOM pada masing-masing dataset.\n"
   ]
  },
  {
   "cell_type": "code",
   "execution_count": null,
   "metadata": {
    "colab": {
     "base_uri": "https://localhost:8080/"
    },
    "id": "LaRzkxwQkH5v",
    "outputId": "b16db488-38d4-46da-c8d0-91952fb90660"
   },
   "outputs": [
    {
     "name": "stdout",
     "output_type": "stream",
     "text": [
      "=== Evaluation Results ===\n",
      "BBC           | QE = 0.7616 | Topographic Error = 0.9474\n",
      "Sentiment140  | QE = 0.8680 | Topographic Error = 0.8491\n",
      "FordA         | QE = 2.5254 | Topographic Error = 0.8043\n",
      "\n",
      "=== Best Performing Datasets ===\n",
      "Best by Quantization Error      : BBC (QE = 0.7616)\n",
      "Best by Topographic Error (TE)  : FordA (TE = 0.8043)\n"
     ]
    }
   ],
   "source": [
    "import numpy as np\n",
    "\n",
    "# === Fungsi Hitung Topographic Error ===\n",
    "def topographic_error(som, data):\n",
    "    error_count = 0\n",
    "    weights = som.get_weights()\n",
    "    x_max, y_max = weights.shape[0], weights.shape[1]\n",
    "    for x in data:\n",
    "        dists = np.linalg.norm(weights - x, axis=2)\n",
    "        bmu1_idx = np.unravel_index(np.argmin(dists), dists.shape)\n",
    "        dists[bmu1_idx] = np.inf\n",
    "        bmu2_idx = np.unravel_index(np.argmin(dists), dists.shape)\n",
    "\n",
    "        # Cek apakah bmu2 adalah tetangga bmu1 (4-neighborhood)\n",
    "        neighbors = []\n",
    "        for dx, dy in [(-1,0), (1,0), (0,-1), (0,1)]:\n",
    "            nx, ny = bmu1_idx[0] + dx, bmu1_idx[1] + dy\n",
    "            if 0 <= nx < x_max and 0 <= ny < y_max:\n",
    "                neighbors.append((nx, ny))\n",
    "        if bmu2_idx not in neighbors:\n",
    "            error_count += 1\n",
    "    return error_count / len(data)\n",
    "\n",
    "# === Fungsi Ambil Cluster Labels (masih dipakai untuk konsistensi) ===\n",
    "def get_cluster_labels(som, data):\n",
    "    coords = [som.winner(x) for x in data]\n",
    "    label_ids = [c[0] * som._weights.shape[1] + c[1] for c in coords]\n",
    "    return np.array(label_ids)\n",
    "\n",
    "# === Fungsi Evaluasi yang dimodifikasi untuk QE + TE ===\n",
    "def evaluate_som_model(name, som, data):\n",
    "    qe = som.quantization_error(data)\n",
    "    te = topographic_error(som, data)\n",
    "    return {\"name\": name, \"qe\": qe, \"te\": te}\n",
    "\n",
    "# === Evaluasi Semua Dataset ===\n",
    "results = [\n",
    "    evaluate_som_model(\"BBC\", som_bbc, X_bbc_tfidf),\n",
    "    evaluate_som_model(\"Sentiment140\", som_sent, X_sent_sampled),\n",
    "    evaluate_som_model(\"FordA\", som_forda, X_forda_scaled)\n",
    "]\n",
    "\n",
    "# === Print tabel hasil ===\n",
    "print(\"=== Evaluation Results ===\")\n",
    "for r in results:\n",
    "    print(f\"{r['name']:<13} | QE = {r['qe']:.4f} | Topographic Error = {r['te']:.4f}\")\n",
    "\n",
    "# === Menentukan yang terbaik ===\n",
    "best_qe = min(results, key=lambda r: r['qe'])\n",
    "best_te = min(results, key=lambda r: r['te'])\n",
    "\n",
    "print(\"\\n=== Best Performing Datasets ===\")\n",
    "print(f\"Best by Quantization Error      : {best_qe['name']} (QE = {best_qe['qe']:.4f})\")\n",
    "print(f\"Best by Topographic Error (TE)  : {best_te['name']} (TE = {best_te['te']:.4f})\")\n"
   ]
  },
  {
   "cell_type": "code",
   "execution_count": null,
   "metadata": {
    "colab": {
     "base_uri": "https://localhost:8080/",
     "height": 1000
    },
    "id": "Hs8sJLcq9WqA",
    "outputId": "bbfce2e7-570e-4927-b9a5-82dbfa998b3c"
   },
   "outputs": [
    {
     "data": {
      "image/png": "[encoded data removed]",
      "text/plain": [
       "<Figure size 800x800 with 2 Axes>"
      ]
     },
     "metadata": {},
     "output_type": "display_data"
    },
    {
     "data": {
      "image/png": "[encoded data removed]",
      "text/plain": [
       "<Figure size 800x800 with 2 Axes>"
      ]
     },
     "metadata": {},
     "output_type": "display_data"
    },
    {
     "data": {
      "image/png": "[encoded data removed]",
      "text/plain": [
       "<Figure size 800x800 with 2 Axes>"
      ]
     },
     "metadata": {},
     "output_type": "display_data"
    }
   ],
   "source": [
    "import matplotlib.pyplot as plt\n",
    "import numpy as np\n",
    "\n",
    "def plot_umatrix(som, title):\n",
    "    \"\"\"\n",
    "    Visualisasi U-Matrix dari SOM\n",
    "    \"\"\"\n",
    "    umatrix = som.distance_map().T  # transpose supaya orientasi benar\n",
    "    plt.figure(figsize=(8, 8))\n",
    "    plt.title(f\"U-Matrix Visualization - {title}\", fontsize=16)\n",
    "    plt.pcolor(umatrix, cmap='viridis')  # pcolor untuk jarak antar neuron\n",
    "    plt.colorbar(label='Distance')\n",
    "    plt.show()\n",
    "\n",
    "# Visualisasi SOM terbaik dari hasil tuning\n",
    "plot_umatrix(som_bbc, \"BBC (Best SOM)\")\n",
    "plot_umatrix(som_sent, \"Sentiment140 (Best SOM)\")\n",
    "plot_umatrix(som_forda, \"FordA (Best SOM)\")\n"
   ]
  },
  {
   "cell_type": "markdown",
   "metadata": {
    "id": "OBSlqL638opJ"
   },
   "source": [
    "# Evaluasi Self-Organizing Map (SOM) pada Dataset BBC, Sentiment140, dan FordA\n",
    "\n",
    "---\n",
    "\n",
    "## Hasil Evaluasi\n",
    "\n",
    "| Dataset       | Quantization Error (QE) | Topographic Error (TE)  |\n",
    "|---------------|------------------------|------------------------|\n",
    "| **BBC**       | 0.7616                 | 0.9474                 |\n",
    "| **Sentiment140** | 0.8680                 | 0.8491                 |\n",
    "| **FordA**     | 2.5254                 | 0.8043                 |\n",
    "\n",
    "---\n",
    "\n",
    "## Apa itu QE dan TE?\n",
    "\n",
    "- **Quantization Error (QE)**  \n",
    "  Mengukur rata-rata jarak antara data asli dengan neuron pemenang pada SOM.  \n",
    "  Nilai QE yang lebih rendah berarti representasi data yang lebih akurat.\n",
    "\n",
    "- **Topographic Error (TE)**  \n",
    "  Mengukur seberapa baik SOM menjaga struktur topologi data asli.  \n",
    "  Nilai TE yang lebih rendah menandakan peta yang lebih rapi dan konsisten secara topologi.\n",
    "\n",
    "---\n",
    "\n",
    "## Interpretasi Hasil\n",
    "\n",
    "- Dataset **BBC** memiliki QE terendah, yang berarti model SOM-nya paling akurat merepresentasikan data.\n",
    "- Dataset **FordA** memiliki TE terendah, yang menunjukkan peta SOM paling baik dalam menjaga hubungan topologi antar data.\n",
    "- Namun, nilai TE pada semua dataset masih relatif tinggi (>0.8), menandakan bahwa topologi peta SOM bisa diperbaiki.\n",
    "\n",
    "---\n",
    "\n",
    "## Kesimpulan\n",
    "\n",
    "- SOM memberikan gambaran yang cukup baik, terutama untuk dataset BBC dalam hal akurasi.\n",
    "- Perbaikan pada pemeliharaan topologi masih diperlukan untuk hasil yang lebih optimal.\n",
    "- Eksplorasi parameter dan visualisasi lebih lanjut sangat disarankan.\n",
    "\n",
    "---\n"
   ]
  },
  {
   "cell_type": "markdown",
   "metadata": {
    "id": "H0QmGoMskH5w"
   },
   "source": [
    "# **Tahap 6 – Analisis dan Diskusi**  \n",
    "Pada tahap ini dilakukan analisis dan diskusi terhadap hasil evaluasi dan visualisasi model SOM pada ketiga dataset. Pembahasan meliputi:\n",
    "\n",
    "- **Analisis Kinerja SOM:**\n",
    "  - Dataset BBC menunjukkan nilai Quantization Error (QE) terendah, menandakan representasi data yang paling akurat oleh SOM.\n",
    "  - Dataset FordA memiliki Topographic Error (TE) terendah, yang berarti peta SOM-nya paling baik dalam menjaga struktur topologi data.\n",
    "  - Nilai TE pada semua dataset masih cukup tinggi (>0.8), sehingga pemetaan topologi belum optimal dan dapat dieksplorasi lebih lanjut.\n",
    "\n",
    "- **Faktor yang Mempengaruhi Hasil:**\n",
    "  - Kualitas preprocessing (pembersihan teks, normalisasi data) sangat mempengaruhi hasil klastering SOM.\n",
    "  - Pemilihan dan tuning hyperparameter (ukuran grid, sigma, learning rate) berperan penting dalam performa akhir model.\n",
    "  - Karakteristik data (teks vs time series) juga mempengaruhi kemudahan SOM dalam menemukan pola klaster.\n",
    "\n",
    "- **Kekuatan dan Keterbatasan SOM:**\n",
    "  - **Kekuatan:**\n",
    "    - SOM mampu memvisualisasikan dan mengelompokkan data berdimensi tinggi secara intuitif.\n",
    "    - Dapat digunakan untuk eksplorasi data dan deteksi pola tanpa label.\n",
    "  - **Keterbatasan:**\n",
    "    - Sensitif terhadap parameter dan skala data.\n",
    "    - Untuk data dengan struktur kompleks, SOM kadang sulit menjaga topologi dengan baik.\n",
    "    - Proses tuning bisa memakan waktu pada dataset besar.\n",
    "\n",
    "\n",
    "> **Kesimpulan:**\n",
    "> Analisis ini menyoroti pentingnya preprocessing, tuning parameter, dan pemilihan metode yang sesuai dengan karakteristik data untuk mendapatkan hasil klastering yang optimal menggunakan SOM."
   ]
  },
  {
   "cell_type": "code",
   "execution_count": null,
   "metadata": {
    "id": "x8nFe3imkH5w"
   },
   "outputs": [],
   "source": []
  }
 ],
 "metadata": {
  "colab": {
   "provenance": []
  },
  "kernelspec": {
   "display_name": "Python 3",
   "name": "python3"
  },
  "language_info": {
   "codemirror_mode": {
    "name": "ipython",
    "version": 3
   },
   "file_extension": ".py",
   "mimetype": "text/x-python",
   "name": "python",
   "nbconvert_exporter": "python",
   "pygments_lexer": "ipython3",
   "version": "3.11.0"
  }
 },
 "nbformat": 4,
 "nbformat_minor": 0
}
